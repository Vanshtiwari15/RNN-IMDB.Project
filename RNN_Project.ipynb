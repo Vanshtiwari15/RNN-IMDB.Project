{
  "nbformat": 4,
  "nbformat_minor": 0,
  "metadata": {
    "colab": {
      "provenance": [],
      "gpuType": "T4",
      "authorship_tag": "ABX9TyN1VxlHcGG6zt3hkJlLOgsg",
      "include_colab_link": true
    },
    "kernelspec": {
      "name": "python3",
      "display_name": "Python 3"
    },
    "language_info": {
      "name": "python"
    },
    "accelerator": "GPU"
  },
  "cells": [
    {
      "cell_type": "markdown",
      "metadata": {
        "id": "view-in-github",
        "colab_type": "text"
      },
      "source": [
        "<a href=\"https://colab.research.google.com/github/Vanshtiwari15/RNN-IMDB.Project/blob/main/RNN_Project.ipynb\" target=\"_parent\"><img src=\"https://colab.research.google.com/assets/colab-badge.svg\" alt=\"Open In Colab\"/></a>"
      ]
    },
    {
      "cell_type": "code",
      "source": [
        "from tensorflow.keras.preprocessing.text import one_hot"
      ],
      "metadata": {
        "id": "E5ww196rIzRm"
      },
      "execution_count": 2,
      "outputs": []
    },
    {
      "cell_type": "code",
      "source": [
        "## Sentences\n",
        "sent=['the glass of milk',\n",
        "    'the glass of juice',\n",
        "    'the cup of tea',\n",
        "    'I am a good boy',\n",
        "    'I am a good developer',\n",
        "    'understand the meaning of words',\n",
        "    'your videos are good',]"
      ],
      "metadata": {
        "id": "mFtMarHMI7hp"
      },
      "execution_count": 3,
      "outputs": []
    },
    {
      "cell_type": "code",
      "source": [
        "sent"
      ],
      "metadata": {
        "colab": {
          "base_uri": "https://localhost:8080/"
        },
        "id": "z4v2ZoxRJbmb",
        "outputId": "db1a3a71-528d-46d6-8742-0d1a26be29ac"
      },
      "execution_count": 4,
      "outputs": [
        {
          "output_type": "execute_result",
          "data": {
            "text/plain": [
              "['the glass of milk',\n",
              " 'the glass of juice',\n",
              " 'the cup of tea',\n",
              " 'I am a good boy',\n",
              " 'I am a good developer',\n",
              " 'understand the meaning of words',\n",
              " 'your videos are good']"
            ]
          },
          "metadata": {},
          "execution_count": 4
        }
      ]
    },
    {
      "cell_type": "code",
      "source": [
        "## Define the vocabulary size\n",
        "voc_size=10000"
      ],
      "metadata": {
        "id": "WDDqswvLJdwp"
      },
      "execution_count": 5,
      "outputs": []
    },
    {
      "cell_type": "code",
      "source": [
        "sent"
      ],
      "metadata": {
        "colab": {
          "base_uri": "https://localhost:8080/"
        },
        "id": "pSgWAGUDKzdu",
        "outputId": "c6bbf144-6dac-4de4-bc9b-ce4cc506349b"
      },
      "execution_count": 6,
      "outputs": [
        {
          "output_type": "execute_result",
          "data": {
            "text/plain": [
              "['the glass of milk',\n",
              " 'the glass of juice',\n",
              " 'the cup of tea',\n",
              " 'I am a good boy',\n",
              " 'I am a good developer',\n",
              " 'understand the meaning of words',\n",
              " 'your videos are good']"
            ]
          },
          "metadata": {},
          "execution_count": 6
        }
      ]
    },
    {
      "cell_type": "code",
      "source": [
        "## One hot Representation\n",
        "one_hot_repr=[one_hot(words,voc_size)for words in sent]\n",
        "one_hot_repr"
      ],
      "metadata": {
        "colab": {
          "base_uri": "https://localhost:8080/"
        },
        "id": "Xp8lDOgDKSeX",
        "outputId": "09d76446-0425-4526-efaa-21355ad299d3"
      },
      "execution_count": 7,
      "outputs": [
        {
          "output_type": "execute_result",
          "data": {
            "text/plain": [
              "[[5533, 9001, 1892, 661],\n",
              " [5533, 9001, 1892, 5672],\n",
              " [5533, 9233, 1892, 1364],\n",
              " [1994, 7869, 2338, 2515, 5711],\n",
              " [1994, 7869, 2338, 2515, 1151],\n",
              " [3, 5533, 3556, 1892, 3307],\n",
              " [9138, 6372, 8568, 2515]]"
            ]
          },
          "metadata": {},
          "execution_count": 7
        }
      ]
    },
    {
      "cell_type": "code",
      "source": [
        "## Word Embedding Representation\n",
        "\n",
        "from tensorflow.keras.layers import Embedding\n",
        "## from tensorflow.keras.preprocessing.sequence import pad_sequences\n",
        "from tensorflow.keras.utils import pad_sequences\n",
        "from tensorflow.keras.models import Sequential"
      ],
      "metadata": {
        "id": "bVCSynTbKtYK"
      },
      "execution_count": 8,
      "outputs": []
    },
    {
      "cell_type": "code",
      "source": [
        "import numpy as np"
      ],
      "metadata": {
        "id": "wxI_RpAQNFpE"
      },
      "execution_count": 9,
      "outputs": []
    },
    {
      "cell_type": "code",
      "source": [
        "sent_length=8\n",
        "embedded_docs=pad_sequences(one_hot_repr,padding='pre',maxlen=sent_length)\n",
        "print(embedded_docs) ## if i use post intead of pre all zeros at last use it once when praticing"
      ],
      "metadata": {
        "colab": {
          "base_uri": "https://localhost:8080/"
        },
        "id": "38bn0FBRNy5N",
        "outputId": "67143cb8-08a5-4024-e81f-6beb1d9b51eb"
      },
      "execution_count": 10,
      "outputs": [
        {
          "output_type": "stream",
          "name": "stdout",
          "text": [
            "[[   0    0    0    0 5533 9001 1892  661]\n",
            " [   0    0    0    0 5533 9001 1892 5672]\n",
            " [   0    0    0    0 5533 9233 1892 1364]\n",
            " [   0    0    0 1994 7869 2338 2515 5711]\n",
            " [   0    0    0 1994 7869 2338 2515 1151]\n",
            " [   0    0    0    3 5533 3556 1892 3307]\n",
            " [   0    0    0    0 9138 6372 8568 2515]]\n"
          ]
        }
      ]
    },
    {
      "cell_type": "code",
      "source": [
        " ## Feature representaion\n",
        " dim=10"
      ],
      "metadata": {
        "id": "eQyodgO2PLMf"
      },
      "execution_count": 11,
      "outputs": []
    },
    {
      "cell_type": "code",
      "source": [
        "model=Sequential()\n",
        "model.add(Embedding(voc_size,dim,input_length=sent_length))\n",
        "model.compile('adam','mse')\n",
        "model.build(input_shape=(None, sent_length))"
      ],
      "metadata": {
        "id": "0cdW8l07PyYe",
        "colab": {
          "base_uri": "https://localhost:8080/"
        },
        "outputId": "ae64b9ce-c4c4-434c-ce21-1204c5f77a50"
      },
      "execution_count": 12,
      "outputs": [
        {
          "output_type": "stream",
          "name": "stderr",
          "text": [
            "/usr/local/lib/python3.12/dist-packages/keras/src/layers/core/embedding.py:97: UserWarning: Argument `input_length` is deprecated. Just remove it.\n",
            "  warnings.warn(\n"
          ]
        }
      ]
    },
    {
      "cell_type": "code",
      "source": [
        "model.summary()"
      ],
      "metadata": {
        "colab": {
          "base_uri": "https://localhost:8080/",
          "height": 170
        },
        "id": "AjiOFr2DQMy_",
        "outputId": "0d06b8b8-6ce9-4079-bd53-b376b21c4262"
      },
      "execution_count": 13,
      "outputs": [
        {
          "output_type": "display_data",
          "data": {
            "text/plain": [
              "\u001b[1mModel: \"sequential\"\u001b[0m\n"
            ],
            "text/html": [
              "<pre style=\"white-space:pre;overflow-x:auto;line-height:normal;font-family:Menlo,'DejaVu Sans Mono',consolas,'Courier New',monospace\"><span style=\"font-weight: bold\">Model: \"sequential\"</span>\n",
              "</pre>\n"
            ]
          },
          "metadata": {}
        },
        {
          "output_type": "display_data",
          "data": {
            "text/plain": [
              "┏━━━━━━━━━━━━━━━━━━━━━━━━━━━━━━━━━┳━━━━━━━━━━━━━━━━━━━━━━━━┳━━━━━━━━━━━━━━━┓\n",
              "┃\u001b[1m \u001b[0m\u001b[1mLayer (type)                   \u001b[0m\u001b[1m \u001b[0m┃\u001b[1m \u001b[0m\u001b[1mOutput Shape          \u001b[0m\u001b[1m \u001b[0m┃\u001b[1m \u001b[0m\u001b[1m      Param #\u001b[0m\u001b[1m \u001b[0m┃\n",
              "┡━━━━━━━━━━━━━━━━━━━━━━━━━━━━━━━━━╇━━━━━━━━━━━━━━━━━━━━━━━━╇━━━━━━━━━━━━━━━┩\n",
              "│ embedding (\u001b[38;5;33mEmbedding\u001b[0m)           │ (\u001b[38;5;45mNone\u001b[0m, \u001b[38;5;34m8\u001b[0m, \u001b[38;5;34m10\u001b[0m)          │       \u001b[38;5;34m100,000\u001b[0m │\n",
              "└─────────────────────────────────┴────────────────────────┴───────────────┘\n"
            ],
            "text/html": [
              "<pre style=\"white-space:pre;overflow-x:auto;line-height:normal;font-family:Menlo,'DejaVu Sans Mono',consolas,'Courier New',monospace\">┏━━━━━━━━━━━━━━━━━━━━━━━━━━━━━━━━━┳━━━━━━━━━━━━━━━━━━━━━━━━┳━━━━━━━━━━━━━━━┓\n",
              "┃<span style=\"font-weight: bold\"> Layer (type)                    </span>┃<span style=\"font-weight: bold\"> Output Shape           </span>┃<span style=\"font-weight: bold\">       Param # </span>┃\n",
              "┡━━━━━━━━━━━━━━━━━━━━━━━━━━━━━━━━━╇━━━━━━━━━━━━━━━━━━━━━━━━╇━━━━━━━━━━━━━━━┩\n",
              "│ embedding (<span style=\"color: #0087ff; text-decoration-color: #0087ff\">Embedding</span>)           │ (<span style=\"color: #00d7ff; text-decoration-color: #00d7ff\">None</span>, <span style=\"color: #00af00; text-decoration-color: #00af00\">8</span>, <span style=\"color: #00af00; text-decoration-color: #00af00\">10</span>)          │       <span style=\"color: #00af00; text-decoration-color: #00af00\">100,000</span> │\n",
              "└─────────────────────────────────┴────────────────────────┴───────────────┘\n",
              "</pre>\n"
            ]
          },
          "metadata": {}
        },
        {
          "output_type": "display_data",
          "data": {
            "text/plain": [
              "\u001b[1m Total params: \u001b[0m\u001b[38;5;34m100,000\u001b[0m (390.62 KB)\n"
            ],
            "text/html": [
              "<pre style=\"white-space:pre;overflow-x:auto;line-height:normal;font-family:Menlo,'DejaVu Sans Mono',consolas,'Courier New',monospace\"><span style=\"font-weight: bold\"> Total params: </span><span style=\"color: #00af00; text-decoration-color: #00af00\">100,000</span> (390.62 KB)\n",
              "</pre>\n"
            ]
          },
          "metadata": {}
        },
        {
          "output_type": "display_data",
          "data": {
            "text/plain": [
              "\u001b[1m Trainable params: \u001b[0m\u001b[38;5;34m100,000\u001b[0m (390.62 KB)\n"
            ],
            "text/html": [
              "<pre style=\"white-space:pre;overflow-x:auto;line-height:normal;font-family:Menlo,'DejaVu Sans Mono',consolas,'Courier New',monospace\"><span style=\"font-weight: bold\"> Trainable params: </span><span style=\"color: #00af00; text-decoration-color: #00af00\">100,000</span> (390.62 KB)\n",
              "</pre>\n"
            ]
          },
          "metadata": {}
        },
        {
          "output_type": "display_data",
          "data": {
            "text/plain": [
              "\u001b[1m Non-trainable params: \u001b[0m\u001b[38;5;34m0\u001b[0m (0.00 B)\n"
            ],
            "text/html": [
              "<pre style=\"white-space:pre;overflow-x:auto;line-height:normal;font-family:Menlo,'DejaVu Sans Mono',consolas,'Courier New',monospace\"><span style=\"font-weight: bold\"> Non-trainable params: </span><span style=\"color: #00af00; text-decoration-color: #00af00\">0</span> (0.00 B)\n",
              "</pre>\n"
            ]
          },
          "metadata": {}
        }
      ]
    },
    {
      "cell_type": "code",
      "source": [
        "print(\"voc_size =\", voc_size)\n",
        "print(\"dim =\", dim)\n",
        "print(\"sent_length =\", sent_length)"
      ],
      "metadata": {
        "colab": {
          "base_uri": "https://localhost:8080/"
        },
        "id": "n-sMVuy0QQg2",
        "outputId": "d836bd75-7fa4-438a-e07c-5e3e4806bb44"
      },
      "execution_count": 14,
      "outputs": [
        {
          "output_type": "stream",
          "name": "stdout",
          "text": [
            "voc_size = 10000\n",
            "dim = 10\n",
            "sent_length = 8\n"
          ]
        }
      ]
    },
    {
      "cell_type": "code",
      "source": [
        "model.predict(embedded_docs)"
      ],
      "metadata": {
        "colab": {
          "base_uri": "https://localhost:8080/"
        },
        "id": "HqUOEZXVUCop",
        "outputId": "8260e362-e9d9-47f4-c7d2-13d5d817b14a"
      },
      "execution_count": 15,
      "outputs": [
        {
          "output_type": "stream",
          "name": "stdout",
          "text": [
            "\u001b[1m1/1\u001b[0m \u001b[32m━━━━━━━━━━━━━━━━━━━━\u001b[0m\u001b[37m\u001b[0m \u001b[1m0s\u001b[0m 338ms/step\n"
          ]
        },
        {
          "output_type": "execute_result",
          "data": {
            "text/plain": [
              "array([[[-4.7522333e-02,  3.7405144e-02,  1.9453391e-03,  3.0785609e-02,\n",
              "         -4.5984268e-02,  2.9832076e-02,  3.4751046e-02,  2.5782440e-02,\n",
              "          3.6205020e-02,  1.5561357e-03],\n",
              "        [-4.7522333e-02,  3.7405144e-02,  1.9453391e-03,  3.0785609e-02,\n",
              "         -4.5984268e-02,  2.9832076e-02,  3.4751046e-02,  2.5782440e-02,\n",
              "          3.6205020e-02,  1.5561357e-03],\n",
              "        [-4.7522333e-02,  3.7405144e-02,  1.9453391e-03,  3.0785609e-02,\n",
              "         -4.5984268e-02,  2.9832076e-02,  3.4751046e-02,  2.5782440e-02,\n",
              "          3.6205020e-02,  1.5561357e-03],\n",
              "        [-4.7522333e-02,  3.7405144e-02,  1.9453391e-03,  3.0785609e-02,\n",
              "         -4.5984268e-02,  2.9832076e-02,  3.4751046e-02,  2.5782440e-02,\n",
              "          3.6205020e-02,  1.5561357e-03],\n",
              "        [-2.2422826e-02, -4.8816577e-03,  2.0471700e-03, -4.9754232e-04,\n",
              "          1.0437451e-02, -2.7163196e-02, -2.8793538e-02, -4.9643971e-02,\n",
              "          1.8780936e-02, -8.9716315e-03],\n",
              "        [-3.2377459e-02,  2.1053102e-02, -1.9426608e-02, -3.8100503e-02,\n",
              "         -1.9421875e-02,  3.6846172e-02, -2.9522467e-02, -4.7091641e-02,\n",
              "          2.1160547e-02, -2.3269404e-02],\n",
              "        [ 1.1228479e-02,  4.9601305e-02, -3.0696392e-05,  3.8548756e-02,\n",
              "         -2.0669961e-02,  3.8538817e-02,  6.4653158e-04,  3.8129937e-02,\n",
              "         -4.7273029e-02, -7.5746663e-03],\n",
              "        [-2.9725267e-02, -3.3114515e-02,  1.4492463e-02, -1.0583498e-02,\n",
              "          6.9107786e-03,  4.8650373e-02,  3.4655992e-02, -9.7290426e-04,\n",
              "         -4.6580806e-03,  9.1896877e-03]],\n",
              "\n",
              "       [[-4.7522333e-02,  3.7405144e-02,  1.9453391e-03,  3.0785609e-02,\n",
              "         -4.5984268e-02,  2.9832076e-02,  3.4751046e-02,  2.5782440e-02,\n",
              "          3.6205020e-02,  1.5561357e-03],\n",
              "        [-4.7522333e-02,  3.7405144e-02,  1.9453391e-03,  3.0785609e-02,\n",
              "         -4.5984268e-02,  2.9832076e-02,  3.4751046e-02,  2.5782440e-02,\n",
              "          3.6205020e-02,  1.5561357e-03],\n",
              "        [-4.7522333e-02,  3.7405144e-02,  1.9453391e-03,  3.0785609e-02,\n",
              "         -4.5984268e-02,  2.9832076e-02,  3.4751046e-02,  2.5782440e-02,\n",
              "          3.6205020e-02,  1.5561357e-03],\n",
              "        [-4.7522333e-02,  3.7405144e-02,  1.9453391e-03,  3.0785609e-02,\n",
              "         -4.5984268e-02,  2.9832076e-02,  3.4751046e-02,  2.5782440e-02,\n",
              "          3.6205020e-02,  1.5561357e-03],\n",
              "        [-2.2422826e-02, -4.8816577e-03,  2.0471700e-03, -4.9754232e-04,\n",
              "          1.0437451e-02, -2.7163196e-02, -2.8793538e-02, -4.9643971e-02,\n",
              "          1.8780936e-02, -8.9716315e-03],\n",
              "        [-3.2377459e-02,  2.1053102e-02, -1.9426608e-02, -3.8100503e-02,\n",
              "         -1.9421875e-02,  3.6846172e-02, -2.9522467e-02, -4.7091641e-02,\n",
              "          2.1160547e-02, -2.3269404e-02],\n",
              "        [ 1.1228479e-02,  4.9601305e-02, -3.0696392e-05,  3.8548756e-02,\n",
              "         -2.0669961e-02,  3.8538817e-02,  6.4653158e-04,  3.8129937e-02,\n",
              "         -4.7273029e-02, -7.5746663e-03],\n",
              "        [-2.1723235e-02, -3.0725945e-02, -1.1539053e-02, -2.2312773e-02,\n",
              "         -9.9795945e-03, -1.8374015e-02,  3.0393723e-02,  3.1775359e-02,\n",
              "          2.1210227e-02, -1.1548959e-02]],\n",
              "\n",
              "       [[-4.7522333e-02,  3.7405144e-02,  1.9453391e-03,  3.0785609e-02,\n",
              "         -4.5984268e-02,  2.9832076e-02,  3.4751046e-02,  2.5782440e-02,\n",
              "          3.6205020e-02,  1.5561357e-03],\n",
              "        [-4.7522333e-02,  3.7405144e-02,  1.9453391e-03,  3.0785609e-02,\n",
              "         -4.5984268e-02,  2.9832076e-02,  3.4751046e-02,  2.5782440e-02,\n",
              "          3.6205020e-02,  1.5561357e-03],\n",
              "        [-4.7522333e-02,  3.7405144e-02,  1.9453391e-03,  3.0785609e-02,\n",
              "         -4.5984268e-02,  2.9832076e-02,  3.4751046e-02,  2.5782440e-02,\n",
              "          3.6205020e-02,  1.5561357e-03],\n",
              "        [-4.7522333e-02,  3.7405144e-02,  1.9453391e-03,  3.0785609e-02,\n",
              "         -4.5984268e-02,  2.9832076e-02,  3.4751046e-02,  2.5782440e-02,\n",
              "          3.6205020e-02,  1.5561357e-03],\n",
              "        [-2.2422826e-02, -4.8816577e-03,  2.0471700e-03, -4.9754232e-04,\n",
              "          1.0437451e-02, -2.7163196e-02, -2.8793538e-02, -4.9643971e-02,\n",
              "          1.8780936e-02, -8.9716315e-03],\n",
              "        [ 1.3142813e-02, -2.7443266e-02,  2.9093873e-02,  3.4647807e-03,\n",
              "         -1.1070609e-02, -1.5862692e-02, -4.7201402e-03, -4.7381509e-02,\n",
              "         -2.5103105e-02, -2.8580368e-02],\n",
              "        [ 1.1228479e-02,  4.9601305e-02, -3.0696392e-05,  3.8548756e-02,\n",
              "         -2.0669961e-02,  3.8538817e-02,  6.4653158e-04,  3.8129937e-02,\n",
              "         -4.7273029e-02, -7.5746663e-03],\n",
              "        [ 8.5364692e-03,  2.5466416e-02,  4.3684546e-02,  4.0163007e-02,\n",
              "          9.4549060e-03, -3.6874615e-02,  1.7962340e-02, -2.1635164e-02,\n",
              "         -1.5786696e-02, -2.0811845e-02]],\n",
              "\n",
              "       [[-4.7522333e-02,  3.7405144e-02,  1.9453391e-03,  3.0785609e-02,\n",
              "         -4.5984268e-02,  2.9832076e-02,  3.4751046e-02,  2.5782440e-02,\n",
              "          3.6205020e-02,  1.5561357e-03],\n",
              "        [-4.7522333e-02,  3.7405144e-02,  1.9453391e-03,  3.0785609e-02,\n",
              "         -4.5984268e-02,  2.9832076e-02,  3.4751046e-02,  2.5782440e-02,\n",
              "          3.6205020e-02,  1.5561357e-03],\n",
              "        [-4.7522333e-02,  3.7405144e-02,  1.9453391e-03,  3.0785609e-02,\n",
              "         -4.5984268e-02,  2.9832076e-02,  3.4751046e-02,  2.5782440e-02,\n",
              "          3.6205020e-02,  1.5561357e-03],\n",
              "        [ 4.0606413e-02,  4.2056553e-03, -7.6638237e-03, -4.3454897e-02,\n",
              "          2.4842732e-03,  2.5797796e-02,  6.2047355e-03,  4.3280032e-02,\n",
              "          1.6653802e-02,  1.0310125e-02],\n",
              "        [ 1.7423440e-02,  1.5964996e-02,  1.6396809e-02, -1.9797325e-02,\n",
              "         -1.5022606e-04,  5.8510788e-03, -1.7588925e-02, -3.4202062e-02,\n",
              "          1.1820484e-02, -4.4117715e-02],\n",
              "        [-3.9691009e-02, -4.3600120e-02, -3.2778084e-02, -1.1737347e-03,\n",
              "         -4.9768019e-02,  3.3408176e-02, -3.6223162e-02, -2.5004566e-02,\n",
              "         -2.1806980e-02, -2.1074761e-02],\n",
              "        [-1.6786158e-02, -1.8976748e-02, -3.2046549e-03,  1.1858724e-02,\n",
              "          1.2965206e-02,  1.0526430e-02, -4.8082020e-02, -4.7103297e-02,\n",
              "          9.6881017e-03,  4.5058243e-03],\n",
              "        [-4.9435046e-02,  1.5164483e-02,  2.3930218e-02, -2.5709128e-02,\n",
              "         -2.8413082e-02, -4.3513514e-02, -1.5722550e-02, -2.0926237e-02,\n",
              "         -6.2533505e-03,  1.3343010e-02]],\n",
              "\n",
              "       [[-4.7522333e-02,  3.7405144e-02,  1.9453391e-03,  3.0785609e-02,\n",
              "         -4.5984268e-02,  2.9832076e-02,  3.4751046e-02,  2.5782440e-02,\n",
              "          3.6205020e-02,  1.5561357e-03],\n",
              "        [-4.7522333e-02,  3.7405144e-02,  1.9453391e-03,  3.0785609e-02,\n",
              "         -4.5984268e-02,  2.9832076e-02,  3.4751046e-02,  2.5782440e-02,\n",
              "          3.6205020e-02,  1.5561357e-03],\n",
              "        [-4.7522333e-02,  3.7405144e-02,  1.9453391e-03,  3.0785609e-02,\n",
              "         -4.5984268e-02,  2.9832076e-02,  3.4751046e-02,  2.5782440e-02,\n",
              "          3.6205020e-02,  1.5561357e-03],\n",
              "        [ 4.0606413e-02,  4.2056553e-03, -7.6638237e-03, -4.3454897e-02,\n",
              "          2.4842732e-03,  2.5797796e-02,  6.2047355e-03,  4.3280032e-02,\n",
              "          1.6653802e-02,  1.0310125e-02],\n",
              "        [ 1.7423440e-02,  1.5964996e-02,  1.6396809e-02, -1.9797325e-02,\n",
              "         -1.5022606e-04,  5.8510788e-03, -1.7588925e-02, -3.4202062e-02,\n",
              "          1.1820484e-02, -4.4117715e-02],\n",
              "        [-3.9691009e-02, -4.3600120e-02, -3.2778084e-02, -1.1737347e-03,\n",
              "         -4.9768019e-02,  3.3408176e-02, -3.6223162e-02, -2.5004566e-02,\n",
              "         -2.1806980e-02, -2.1074761e-02],\n",
              "        [-1.6786158e-02, -1.8976748e-02, -3.2046549e-03,  1.1858724e-02,\n",
              "          1.2965206e-02,  1.0526430e-02, -4.8082020e-02, -4.7103297e-02,\n",
              "          9.6881017e-03,  4.5058243e-03],\n",
              "        [-4.6389949e-02, -2.4164140e-02, -3.9240420e-02,  3.7433449e-02,\n",
              "          1.6102824e-02, -1.4866520e-02, -2.7455414e-02,  1.4945697e-02,\n",
              "         -7.1259961e-03, -4.3674301e-02]],\n",
              "\n",
              "       [[-4.7522333e-02,  3.7405144e-02,  1.9453391e-03,  3.0785609e-02,\n",
              "         -4.5984268e-02,  2.9832076e-02,  3.4751046e-02,  2.5782440e-02,\n",
              "          3.6205020e-02,  1.5561357e-03],\n",
              "        [-4.7522333e-02,  3.7405144e-02,  1.9453391e-03,  3.0785609e-02,\n",
              "         -4.5984268e-02,  2.9832076e-02,  3.4751046e-02,  2.5782440e-02,\n",
              "          3.6205020e-02,  1.5561357e-03],\n",
              "        [-4.7522333e-02,  3.7405144e-02,  1.9453391e-03,  3.0785609e-02,\n",
              "         -4.5984268e-02,  2.9832076e-02,  3.4751046e-02,  2.5782440e-02,\n",
              "          3.6205020e-02,  1.5561357e-03],\n",
              "        [-4.4504751e-02,  4.4971909e-02,  1.8006291e-02, -2.4736524e-03,\n",
              "          3.8608495e-02, -4.5086004e-02,  2.3645107e-02, -3.5180934e-03,\n",
              "         -4.5105517e-02, -1.3448287e-02],\n",
              "        [-2.2422826e-02, -4.8816577e-03,  2.0471700e-03, -4.9754232e-04,\n",
              "          1.0437451e-02, -2.7163196e-02, -2.8793538e-02, -4.9643971e-02,\n",
              "          1.8780936e-02, -8.9716315e-03],\n",
              "        [-4.6402700e-03,  4.5336988e-02,  3.4011874e-02, -2.6729798e-02,\n",
              "          8.3526857e-03,  4.4749293e-02,  3.3612166e-02,  1.7376099e-02,\n",
              "         -2.7357532e-02,  3.3728492e-02],\n",
              "        [ 1.1228479e-02,  4.9601305e-02, -3.0696392e-05,  3.8548756e-02,\n",
              "         -2.0669961e-02,  3.8538817e-02,  6.4653158e-04,  3.8129937e-02,\n",
              "         -4.7273029e-02, -7.5746663e-03],\n",
              "        [ 8.6186752e-03, -3.8365088e-02, -4.1630231e-02,  3.0322704e-02,\n",
              "          4.9938355e-02,  5.7872757e-03, -3.6385544e-03,  3.6973570e-02,\n",
              "          5.4946318e-03,  1.6827393e-02]],\n",
              "\n",
              "       [[-4.7522333e-02,  3.7405144e-02,  1.9453391e-03,  3.0785609e-02,\n",
              "         -4.5984268e-02,  2.9832076e-02,  3.4751046e-02,  2.5782440e-02,\n",
              "          3.6205020e-02,  1.5561357e-03],\n",
              "        [-4.7522333e-02,  3.7405144e-02,  1.9453391e-03,  3.0785609e-02,\n",
              "         -4.5984268e-02,  2.9832076e-02,  3.4751046e-02,  2.5782440e-02,\n",
              "          3.6205020e-02,  1.5561357e-03],\n",
              "        [-4.7522333e-02,  3.7405144e-02,  1.9453391e-03,  3.0785609e-02,\n",
              "         -4.5984268e-02,  2.9832076e-02,  3.4751046e-02,  2.5782440e-02,\n",
              "          3.6205020e-02,  1.5561357e-03],\n",
              "        [-4.7522333e-02,  3.7405144e-02,  1.9453391e-03,  3.0785609e-02,\n",
              "         -4.5984268e-02,  2.9832076e-02,  3.4751046e-02,  2.5782440e-02,\n",
              "          3.6205020e-02,  1.5561357e-03],\n",
              "        [ 3.3273790e-02,  2.7428877e-02,  3.4016792e-02, -4.8280120e-02,\n",
              "          1.6089085e-02, -4.3157555e-02,  1.1821520e-02,  4.0995304e-02,\n",
              "         -1.7793082e-02,  2.7250770e-02],\n",
              "        [-1.6595684e-02,  3.1362060e-02,  3.7782755e-02,  2.9221263e-02,\n",
              "         -4.1707527e-02, -1.7611872e-02,  3.5672400e-02,  2.6764464e-02,\n",
              "         -1.6965382e-03,  1.3339963e-02],\n",
              "        [-5.0433725e-04, -1.0045409e-02,  4.6561841e-02,  2.4083320e-02,\n",
              "          1.8691421e-03,  3.4962781e-03,  1.6003285e-02,  1.8622652e-03,\n",
              "         -3.8127400e-02, -2.5971962e-02],\n",
              "        [-1.6786158e-02, -1.8976748e-02, -3.2046549e-03,  1.1858724e-02,\n",
              "          1.2965206e-02,  1.0526430e-02, -4.8082020e-02, -4.7103297e-02,\n",
              "          9.6881017e-03,  4.5058243e-03]]], dtype=float32)"
            ]
          },
          "metadata": {},
          "execution_count": 15
        }
      ]
    },
    {
      "cell_type": "code",
      "source": [
        "embedded_docs[0]"
      ],
      "metadata": {
        "colab": {
          "base_uri": "https://localhost:8080/"
        },
        "id": "54sJPIq5UFr_",
        "outputId": "01a9e63a-6d64-4cf7-dc72-891e1e58b4c8"
      },
      "execution_count": 16,
      "outputs": [
        {
          "output_type": "execute_result",
          "data": {
            "text/plain": [
              "array([   0,    0,    0,    0, 5533, 9001, 1892,  661], dtype=int32)"
            ]
          },
          "metadata": {},
          "execution_count": 16
        }
      ]
    },
    {
      "cell_type": "code",
      "source": [
        "model.predict(embedded_docs[0].reshape(1, -1))"
      ],
      "metadata": {
        "colab": {
          "base_uri": "https://localhost:8080/"
        },
        "id": "kM3XbiHkUwPJ",
        "outputId": "d4d7efce-01d3-4b9e-fb74-8df823b9d78e"
      },
      "execution_count": 17,
      "outputs": [
        {
          "output_type": "stream",
          "name": "stdout",
          "text": [
            "\u001b[1m1/1\u001b[0m \u001b[32m━━━━━━━━━━━━━━━━━━━━\u001b[0m\u001b[37m\u001b[0m \u001b[1m0s\u001b[0m 129ms/step\n"
          ]
        },
        {
          "output_type": "execute_result",
          "data": {
            "text/plain": [
              "array([[[-4.7522333e-02,  3.7405144e-02,  1.9453391e-03,  3.0785609e-02,\n",
              "         -4.5984268e-02,  2.9832076e-02,  3.4751046e-02,  2.5782440e-02,\n",
              "          3.6205020e-02,  1.5561357e-03],\n",
              "        [-4.7522333e-02,  3.7405144e-02,  1.9453391e-03,  3.0785609e-02,\n",
              "         -4.5984268e-02,  2.9832076e-02,  3.4751046e-02,  2.5782440e-02,\n",
              "          3.6205020e-02,  1.5561357e-03],\n",
              "        [-4.7522333e-02,  3.7405144e-02,  1.9453391e-03,  3.0785609e-02,\n",
              "         -4.5984268e-02,  2.9832076e-02,  3.4751046e-02,  2.5782440e-02,\n",
              "          3.6205020e-02,  1.5561357e-03],\n",
              "        [-4.7522333e-02,  3.7405144e-02,  1.9453391e-03,  3.0785609e-02,\n",
              "         -4.5984268e-02,  2.9832076e-02,  3.4751046e-02,  2.5782440e-02,\n",
              "          3.6205020e-02,  1.5561357e-03],\n",
              "        [-2.2422826e-02, -4.8816577e-03,  2.0471700e-03, -4.9754232e-04,\n",
              "          1.0437451e-02, -2.7163196e-02, -2.8793538e-02, -4.9643971e-02,\n",
              "          1.8780936e-02, -8.9716315e-03],\n",
              "        [-3.2377459e-02,  2.1053102e-02, -1.9426608e-02, -3.8100503e-02,\n",
              "         -1.9421875e-02,  3.6846172e-02, -2.9522467e-02, -4.7091641e-02,\n",
              "          2.1160547e-02, -2.3269404e-02],\n",
              "        [ 1.1228479e-02,  4.9601305e-02, -3.0696392e-05,  3.8548756e-02,\n",
              "         -2.0669961e-02,  3.8538817e-02,  6.4653158e-04,  3.8129937e-02,\n",
              "         -4.7273029e-02, -7.5746663e-03],\n",
              "        [-2.9725267e-02, -3.3114515e-02,  1.4492463e-02, -1.0583498e-02,\n",
              "          6.9107786e-03,  4.8650373e-02,  3.4655992e-02, -9.7290426e-04,\n",
              "         -4.6580806e-03,  9.1896877e-03]]], dtype=float32)"
            ]
          },
          "metadata": {},
          "execution_count": 17
        }
      ]
    },
    {
      "cell_type": "markdown",
      "source": [
        "END TO END Deep Learning Project Using Simple RNN"
      ],
      "metadata": {
        "id": "yG8k3loZcYIZ"
      }
    },
    {
      "cell_type": "code",
      "source": [
        "import numpy as np\n",
        "import tensorflow as tf\n",
        "from tensorflow.keras.datasets import imdb\n",
        "from tensorflow.keras.preprocessing import sequence\n",
        "from tensorflow.keras.models import Sequential\n",
        "from tensorflow.keras.layers import Embedding, SimpleRNN, Dense\n"
      ],
      "metadata": {
        "id": "pW_r0UfVcRBR"
      },
      "execution_count": 18,
      "outputs": []
    },
    {
      "cell_type": "code",
      "source": [
        "## load the imdb dataset\n",
        "\n",
        "max_features=10000 ##Vocabulary size\n",
        "(X_train,y_train),(X_test,y_test)=imdb.load_data(num_words=max_features)\n",
        "\n",
        "\n",
        "## Print the shape of the data\n",
        "print(f\"Training data shape: {X_train.shape}, Training labels shape: {y_train.shape}\")\n",
        "print(f\"Testing data shape: {X_test.shape}, Testing labels shape: {y_test.shape}\")"
      ],
      "metadata": {
        "colab": {
          "base_uri": "https://localhost:8080/"
        },
        "id": "Ow66F5WndBmr",
        "outputId": "47bfbc94-a5f3-4d26-c294-5699353e165a"
      },
      "execution_count": 19,
      "outputs": [
        {
          "output_type": "stream",
          "name": "stdout",
          "text": [
            "Downloading data from https://storage.googleapis.com/tensorflow/tf-keras-datasets/imdb.npz\n",
            "\u001b[1m17464789/17464789\u001b[0m \u001b[32m━━━━━━━━━━━━━━━━━━━━\u001b[0m\u001b[37m\u001b[0m \u001b[1m0s\u001b[0m 0us/step\n",
            "Training data shape: (25000,), Training labels shape: (25000,)\n",
            "Testing data shape: (25000,), Testing labels shape: (25000,)\n"
          ]
        }
      ]
    },
    {
      "cell_type": "code",
      "source": [
        "## Inspect a sample review and its label\n",
        "sample_review=X_train[0]\n",
        "sample_label=y_train[0]\n",
        "\n",
        "print(f\"sample review (as integers):{sample_review}\")\n",
        "print(f'Sample label: {sample_label}')"
      ],
      "metadata": {
        "id": "0-1bgRP4duu6",
        "colab": {
          "base_uri": "https://localhost:8080/"
        },
        "outputId": "a6da1320-9a82-4e3e-de30-f4f47b978fcf"
      },
      "execution_count": 20,
      "outputs": [
        {
          "output_type": "stream",
          "name": "stdout",
          "text": [
            "sample review (as integers):[1, 14, 22, 16, 43, 530, 973, 1622, 1385, 65, 458, 4468, 66, 3941, 4, 173, 36, 256, 5, 25, 100, 43, 838, 112, 50, 670, 2, 9, 35, 480, 284, 5, 150, 4, 172, 112, 167, 2, 336, 385, 39, 4, 172, 4536, 1111, 17, 546, 38, 13, 447, 4, 192, 50, 16, 6, 147, 2025, 19, 14, 22, 4, 1920, 4613, 469, 4, 22, 71, 87, 12, 16, 43, 530, 38, 76, 15, 13, 1247, 4, 22, 17, 515, 17, 12, 16, 626, 18, 2, 5, 62, 386, 12, 8, 316, 8, 106, 5, 4, 2223, 5244, 16, 480, 66, 3785, 33, 4, 130, 12, 16, 38, 619, 5, 25, 124, 51, 36, 135, 48, 25, 1415, 33, 6, 22, 12, 215, 28, 77, 52, 5, 14, 407, 16, 82, 2, 8, 4, 107, 117, 5952, 15, 256, 4, 2, 7, 3766, 5, 723, 36, 71, 43, 530, 476, 26, 400, 317, 46, 7, 4, 2, 1029, 13, 104, 88, 4, 381, 15, 297, 98, 32, 2071, 56, 26, 141, 6, 194, 7486, 18, 4, 226, 22, 21, 134, 476, 26, 480, 5, 144, 30, 5535, 18, 51, 36, 28, 224, 92, 25, 104, 4, 226, 65, 16, 38, 1334, 88, 12, 16, 283, 5, 16, 4472, 113, 103, 32, 15, 16, 5345, 19, 178, 32]\n",
            "Sample label: 1\n"
          ]
        }
      ]
    },
    {
      "cell_type": "code",
      "source": [],
      "metadata": {
        "id": "gM3K143UUTF9"
      },
      "execution_count": 19,
      "outputs": []
    },
    {
      "cell_type": "code",
      "source": [
        "## Mapping of words index back to words(for understanding)\n",
        "word_index=imdb.get_word_index()\n",
        "# word_index\n",
        "reverse_word_index={value: key for key, value in word_index.items()}\n",
        "reverse_word_index"
      ],
      "metadata": {
        "colab": {
          "base_uri": "https://localhost:8080/"
        },
        "id": "4m-sR4JAUcEX",
        "outputId": "8602c6e0-d9f8-462d-c369-ca6c2e3f460b"
      },
      "execution_count": 21,
      "outputs": [
        {
          "output_type": "stream",
          "name": "stdout",
          "text": [
            "Downloading data from https://storage.googleapis.com/tensorflow/tf-keras-datasets/imdb_word_index.json\n",
            "\u001b[1m1641221/1641221\u001b[0m \u001b[32m━━━━━━━━━━━━━━━━━━━━\u001b[0m\u001b[37m\u001b[0m \u001b[1m0s\u001b[0m 0us/step\n"
          ]
        },
        {
          "output_type": "execute_result",
          "data": {
            "text/plain": [
              "{34701: 'fawn',\n",
              " 52006: 'tsukino',\n",
              " 52007: 'nunnery',\n",
              " 16816: 'sonja',\n",
              " 63951: 'vani',\n",
              " 1408: 'woods',\n",
              " 16115: 'spiders',\n",
              " 2345: 'hanging',\n",
              " 2289: 'woody',\n",
              " 52008: 'trawling',\n",
              " 52009: \"hold's\",\n",
              " 11307: 'comically',\n",
              " 40830: 'localized',\n",
              " 30568: 'disobeying',\n",
              " 52010: \"'royale\",\n",
              " 40831: \"harpo's\",\n",
              " 52011: 'canet',\n",
              " 19313: 'aileen',\n",
              " 52012: 'acurately',\n",
              " 52013: \"diplomat's\",\n",
              " 25242: 'rickman',\n",
              " 6746: 'arranged',\n",
              " 52014: 'rumbustious',\n",
              " 52015: 'familiarness',\n",
              " 52016: \"spider'\",\n",
              " 68804: 'hahahah',\n",
              " 52017: \"wood'\",\n",
              " 40833: 'transvestism',\n",
              " 34702: \"hangin'\",\n",
              " 2338: 'bringing',\n",
              " 40834: 'seamier',\n",
              " 34703: 'wooded',\n",
              " 52018: 'bravora',\n",
              " 16817: 'grueling',\n",
              " 1636: 'wooden',\n",
              " 16818: 'wednesday',\n",
              " 52019: \"'prix\",\n",
              " 34704: 'altagracia',\n",
              " 52020: 'circuitry',\n",
              " 11585: 'crotch',\n",
              " 57766: 'busybody',\n",
              " 52021: \"tart'n'tangy\",\n",
              " 14129: 'burgade',\n",
              " 52023: 'thrace',\n",
              " 11038: \"tom's\",\n",
              " 52025: 'snuggles',\n",
              " 29114: 'francesco',\n",
              " 52027: 'complainers',\n",
              " 52125: 'templarios',\n",
              " 40835: '272',\n",
              " 52028: '273',\n",
              " 52130: 'zaniacs',\n",
              " 34706: '275',\n",
              " 27631: 'consenting',\n",
              " 40836: 'snuggled',\n",
              " 15492: 'inanimate',\n",
              " 52030: 'uality',\n",
              " 11926: 'bronte',\n",
              " 4010: 'errors',\n",
              " 3230: 'dialogs',\n",
              " 52031: \"yomada's\",\n",
              " 34707: \"madman's\",\n",
              " 30585: 'dialoge',\n",
              " 52033: 'usenet',\n",
              " 40837: 'videodrome',\n",
              " 26338: \"kid'\",\n",
              " 52034: 'pawed',\n",
              " 30569: \"'girlfriend'\",\n",
              " 52035: \"'pleasure\",\n",
              " 52036: \"'reloaded'\",\n",
              " 40839: \"kazakos'\",\n",
              " 52037: 'rocque',\n",
              " 52038: 'mailings',\n",
              " 11927: 'brainwashed',\n",
              " 16819: 'mcanally',\n",
              " 52039: \"tom''\",\n",
              " 25243: 'kurupt',\n",
              " 21905: 'affiliated',\n",
              " 52040: 'babaganoosh',\n",
              " 40840: \"noe's\",\n",
              " 40841: 'quart',\n",
              " 359: 'kids',\n",
              " 5034: 'uplifting',\n",
              " 7093: 'controversy',\n",
              " 21906: 'kida',\n",
              " 23379: 'kidd',\n",
              " 52041: \"error'\",\n",
              " 52042: 'neurologist',\n",
              " 18510: 'spotty',\n",
              " 30570: 'cobblers',\n",
              " 9878: 'projection',\n",
              " 40842: 'fastforwarding',\n",
              " 52043: 'sters',\n",
              " 52044: \"eggar's\",\n",
              " 52045: 'etherything',\n",
              " 40843: 'gateshead',\n",
              " 34708: 'airball',\n",
              " 25244: 'unsinkable',\n",
              " 7180: 'stern',\n",
              " 52046: \"cervi's\",\n",
              " 40844: 'dnd',\n",
              " 11586: 'dna',\n",
              " 20598: 'insecurity',\n",
              " 52047: \"'reboot'\",\n",
              " 11037: 'trelkovsky',\n",
              " 52048: 'jaekel',\n",
              " 52049: 'sidebars',\n",
              " 52050: \"sforza's\",\n",
              " 17633: 'distortions',\n",
              " 52051: 'mutinies',\n",
              " 30602: 'sermons',\n",
              " 40846: '7ft',\n",
              " 52052: 'boobage',\n",
              " 52053: \"o'bannon's\",\n",
              " 23380: 'populations',\n",
              " 52054: 'chulak',\n",
              " 27633: 'mesmerize',\n",
              " 52055: 'quinnell',\n",
              " 10307: 'yahoo',\n",
              " 52057: 'meteorologist',\n",
              " 42577: 'beswick',\n",
              " 15493: 'boorman',\n",
              " 40847: 'voicework',\n",
              " 52058: \"ster'\",\n",
              " 22922: 'blustering',\n",
              " 52059: 'hj',\n",
              " 27634: 'intake',\n",
              " 5621: 'morally',\n",
              " 40849: 'jumbling',\n",
              " 52060: 'bowersock',\n",
              " 52061: \"'porky's'\",\n",
              " 16821: 'gershon',\n",
              " 40850: 'ludicrosity',\n",
              " 52062: 'coprophilia',\n",
              " 40851: 'expressively',\n",
              " 19500: \"india's\",\n",
              " 34710: \"post's\",\n",
              " 52063: 'wana',\n",
              " 5283: 'wang',\n",
              " 30571: 'wand',\n",
              " 25245: 'wane',\n",
              " 52321: 'edgeways',\n",
              " 34711: 'titanium',\n",
              " 40852: 'pinta',\n",
              " 178: 'want',\n",
              " 30572: 'pinto',\n",
              " 52065: 'whoopdedoodles',\n",
              " 21908: 'tchaikovsky',\n",
              " 2103: 'travel',\n",
              " 52066: \"'victory'\",\n",
              " 11928: 'copious',\n",
              " 22433: 'gouge',\n",
              " 52067: \"chapters'\",\n",
              " 6702: 'barbra',\n",
              " 30573: 'uselessness',\n",
              " 52068: \"wan'\",\n",
              " 27635: 'assimilated',\n",
              " 16116: 'petiot',\n",
              " 52069: 'most\\x85and',\n",
              " 3930: 'dinosaurs',\n",
              " 352: 'wrong',\n",
              " 52070: 'seda',\n",
              " 52071: 'stollen',\n",
              " 34712: 'sentencing',\n",
              " 40853: 'ouroboros',\n",
              " 40854: 'assimilates',\n",
              " 40855: 'colorfully',\n",
              " 27636: 'glenne',\n",
              " 52072: 'dongen',\n",
              " 4760: 'subplots',\n",
              " 52073: 'kiloton',\n",
              " 23381: 'chandon',\n",
              " 34713: \"effect'\",\n",
              " 27637: 'snugly',\n",
              " 40856: 'kuei',\n",
              " 9092: 'welcomed',\n",
              " 30071: 'dishonor',\n",
              " 52075: 'concurrence',\n",
              " 23382: 'stoicism',\n",
              " 14896: \"guys'\",\n",
              " 52077: \"beroemd'\",\n",
              " 6703: 'butcher',\n",
              " 40857: \"melfi's\",\n",
              " 30623: 'aargh',\n",
              " 20599: 'playhouse',\n",
              " 11308: 'wickedly',\n",
              " 1180: 'fit',\n",
              " 52078: 'labratory',\n",
              " 40859: 'lifeline',\n",
              " 1927: 'screaming',\n",
              " 4287: 'fix',\n",
              " 52079: 'cineliterate',\n",
              " 52080: 'fic',\n",
              " 52081: 'fia',\n",
              " 34714: 'fig',\n",
              " 52082: 'fmvs',\n",
              " 52083: 'fie',\n",
              " 52084: 'reentered',\n",
              " 30574: 'fin',\n",
              " 52085: 'doctresses',\n",
              " 52086: 'fil',\n",
              " 12606: 'zucker',\n",
              " 31931: 'ached',\n",
              " 52088: 'counsil',\n",
              " 52089: 'paterfamilias',\n",
              " 13885: 'songwriter',\n",
              " 34715: 'shivam',\n",
              " 9654: 'hurting',\n",
              " 299: 'effects',\n",
              " 52090: 'slauther',\n",
              " 52091: \"'flame'\",\n",
              " 52092: 'sommerset',\n",
              " 52093: 'interwhined',\n",
              " 27638: 'whacking',\n",
              " 52094: 'bartok',\n",
              " 8775: 'barton',\n",
              " 21909: 'frewer',\n",
              " 52095: \"fi'\",\n",
              " 6192: 'ingrid',\n",
              " 30575: 'stribor',\n",
              " 52096: 'approporiately',\n",
              " 52097: 'wobblyhand',\n",
              " 52098: 'tantalisingly',\n",
              " 52099: 'ankylosaurus',\n",
              " 17634: 'parasites',\n",
              " 52100: 'childen',\n",
              " 52101: \"jenkins'\",\n",
              " 52102: 'metafiction',\n",
              " 17635: 'golem',\n",
              " 40860: 'indiscretion',\n",
              " 23383: \"reeves'\",\n",
              " 57781: \"inamorata's\",\n",
              " 52104: 'brittannica',\n",
              " 7916: 'adapt',\n",
              " 30576: \"russo's\",\n",
              " 48246: 'guitarists',\n",
              " 10553: 'abbott',\n",
              " 40861: 'abbots',\n",
              " 17649: 'lanisha',\n",
              " 40863: 'magickal',\n",
              " 52105: 'mattter',\n",
              " 52106: \"'willy\",\n",
              " 34716: 'pumpkins',\n",
              " 52107: 'stuntpeople',\n",
              " 30577: 'estimate',\n",
              " 40864: 'ugghhh',\n",
              " 11309: 'gameplay',\n",
              " 52108: \"wern't\",\n",
              " 40865: \"n'sync\",\n",
              " 16117: 'sickeningly',\n",
              " 40866: 'chiara',\n",
              " 4011: 'disturbed',\n",
              " 40867: 'portmanteau',\n",
              " 52109: 'ineffectively',\n",
              " 82143: \"duchonvey's\",\n",
              " 37519: \"nasty'\",\n",
              " 1285: 'purpose',\n",
              " 52112: 'lazers',\n",
              " 28105: 'lightened',\n",
              " 52113: 'kaliganj',\n",
              " 52114: 'popularism',\n",
              " 18511: \"damme's\",\n",
              " 30578: 'stylistics',\n",
              " 52115: 'mindgaming',\n",
              " 46449: 'spoilerish',\n",
              " 52117: \"'corny'\",\n",
              " 34718: 'boerner',\n",
              " 6792: 'olds',\n",
              " 52118: 'bakelite',\n",
              " 27639: 'renovated',\n",
              " 27640: 'forrester',\n",
              " 52119: \"lumiere's\",\n",
              " 52024: 'gaskets',\n",
              " 884: 'needed',\n",
              " 34719: 'smight',\n",
              " 1297: 'master',\n",
              " 25905: \"edie's\",\n",
              " 40868: 'seeber',\n",
              " 52120: 'hiya',\n",
              " 52121: 'fuzziness',\n",
              " 14897: 'genesis',\n",
              " 12607: 'rewards',\n",
              " 30579: 'enthrall',\n",
              " 40869: \"'about\",\n",
              " 52122: \"recollection's\",\n",
              " 11039: 'mutilated',\n",
              " 52123: 'fatherlands',\n",
              " 52124: \"fischer's\",\n",
              " 5399: 'positively',\n",
              " 34705: '270',\n",
              " 34720: 'ahmed',\n",
              " 9836: 'zatoichi',\n",
              " 13886: 'bannister',\n",
              " 52127: 'anniversaries',\n",
              " 30580: \"helm's\",\n",
              " 52128: \"'work'\",\n",
              " 34721: 'exclaimed',\n",
              " 52129: \"'unfunny'\",\n",
              " 52029: '274',\n",
              " 544: 'feeling',\n",
              " 52131: \"wanda's\",\n",
              " 33266: 'dolan',\n",
              " 52133: '278',\n",
              " 52134: 'peacoat',\n",
              " 40870: 'brawny',\n",
              " 40871: 'mishra',\n",
              " 40872: 'worlders',\n",
              " 52135: 'protags',\n",
              " 52136: 'skullcap',\n",
              " 57596: 'dastagir',\n",
              " 5622: 'affairs',\n",
              " 7799: 'wholesome',\n",
              " 52137: 'hymen',\n",
              " 25246: 'paramedics',\n",
              " 52138: 'unpersons',\n",
              " 52139: 'heavyarms',\n",
              " 52140: 'affaire',\n",
              " 52141: 'coulisses',\n",
              " 40873: 'hymer',\n",
              " 52142: 'kremlin',\n",
              " 30581: 'shipments',\n",
              " 52143: 'pixilated',\n",
              " 30582: \"'00s\",\n",
              " 18512: 'diminishing',\n",
              " 1357: 'cinematic',\n",
              " 14898: 'resonates',\n",
              " 40874: 'simplify',\n",
              " 40875: \"nature'\",\n",
              " 40876: 'temptresses',\n",
              " 16822: 'reverence',\n",
              " 19502: 'resonated',\n",
              " 34722: 'dailey',\n",
              " 52144: '2\\x85',\n",
              " 27641: 'treize',\n",
              " 52145: 'majo',\n",
              " 21910: 'kiya',\n",
              " 52146: 'woolnough',\n",
              " 39797: 'thanatos',\n",
              " 35731: 'sandoval',\n",
              " 40879: 'dorama',\n",
              " 52147: \"o'shaughnessy\",\n",
              " 4988: 'tech',\n",
              " 32018: 'fugitives',\n",
              " 30583: 'teck',\n",
              " 76125: \"'e'\",\n",
              " 40881: 'doesn’t',\n",
              " 52149: 'purged',\n",
              " 657: 'saying',\n",
              " 41095: \"martians'\",\n",
              " 23418: 'norliss',\n",
              " 27642: 'dickey',\n",
              " 52152: 'dicker',\n",
              " 52153: \"'sependipity\",\n",
              " 8422: 'padded',\n",
              " 57792: 'ordell',\n",
              " 40882: \"sturges'\",\n",
              " 52154: 'independentcritics',\n",
              " 5745: 'tempted',\n",
              " 34724: \"atkinson's\",\n",
              " 25247: 'hounded',\n",
              " 52155: 'apace',\n",
              " 15494: 'clicked',\n",
              " 30584: \"'humor'\",\n",
              " 17177: \"martino's\",\n",
              " 52156: \"'supporting\",\n",
              " 52032: 'warmongering',\n",
              " 34725: \"zemeckis's\",\n",
              " 21911: 'lube',\n",
              " 52157: 'shocky',\n",
              " 7476: 'plate',\n",
              " 40883: 'plata',\n",
              " 40884: 'sturgess',\n",
              " 40885: \"nerds'\",\n",
              " 20600: 'plato',\n",
              " 34726: 'plath',\n",
              " 40886: 'platt',\n",
              " 52159: 'mcnab',\n",
              " 27643: 'clumsiness',\n",
              " 3899: 'altogether',\n",
              " 42584: 'massacring',\n",
              " 52160: 'bicenntinial',\n",
              " 40887: 'skaal',\n",
              " 14360: 'droning',\n",
              " 8776: 'lds',\n",
              " 21912: 'jaguar',\n",
              " 34727: \"cale's\",\n",
              " 1777: 'nicely',\n",
              " 4588: 'mummy',\n",
              " 18513: \"lot's\",\n",
              " 10086: 'patch',\n",
              " 50202: 'kerkhof',\n",
              " 52161: \"leader's\",\n",
              " 27644: \"'movie\",\n",
              " 52162: 'uncomfirmed',\n",
              " 40888: 'heirloom',\n",
              " 47360: 'wrangle',\n",
              " 52163: 'emotion\\x85',\n",
              " 52164: \"'stargate'\",\n",
              " 40889: 'pinoy',\n",
              " 40890: 'conchatta',\n",
              " 41128: 'broeke',\n",
              " 40891: 'advisedly',\n",
              " 17636: \"barker's\",\n",
              " 52166: 'descours',\n",
              " 772: 'lots',\n",
              " 9259: 'lotr',\n",
              " 9879: 'irs',\n",
              " 52167: 'lott',\n",
              " 40892: 'xvi',\n",
              " 34728: 'irk',\n",
              " 52168: 'irl',\n",
              " 6887: 'ira',\n",
              " 21913: 'belzer',\n",
              " 52169: 'irc',\n",
              " 27645: 'ire',\n",
              " 40893: 'requisites',\n",
              " 7693: 'discipline',\n",
              " 52961: 'lyoko',\n",
              " 11310: 'extend',\n",
              " 873: 'nature',\n",
              " 52170: \"'dickie'\",\n",
              " 40894: 'optimist',\n",
              " 30586: 'lapping',\n",
              " 3900: 'superficial',\n",
              " 52171: 'vestment',\n",
              " 2823: 'extent',\n",
              " 52172: 'tendons',\n",
              " 52173: \"heller's\",\n",
              " 52174: 'quagmires',\n",
              " 52175: 'miyako',\n",
              " 20601: 'moocow',\n",
              " 52176: \"coles'\",\n",
              " 40895: 'lookit',\n",
              " 52177: 'ravenously',\n",
              " 40896: 'levitating',\n",
              " 52178: 'perfunctorily',\n",
              " 30587: 'lookin',\n",
              " 40898: \"lot'\",\n",
              " 52179: 'lookie',\n",
              " 34870: 'fearlessly',\n",
              " 52181: 'libyan',\n",
              " 40899: 'fondles',\n",
              " 35714: 'gopher',\n",
              " 40901: 'wearying',\n",
              " 52182: \"nz's\",\n",
              " 27646: 'minuses',\n",
              " 52183: 'puposelessly',\n",
              " 52184: 'shandling',\n",
              " 31268: 'decapitates',\n",
              " 11929: 'humming',\n",
              " 40902: \"'nother\",\n",
              " 21914: 'smackdown',\n",
              " 30588: 'underdone',\n",
              " 40903: 'frf',\n",
              " 52185: 'triviality',\n",
              " 25248: 'fro',\n",
              " 8777: 'bothers',\n",
              " 52186: \"'kensington\",\n",
              " 73: 'much',\n",
              " 34730: 'muco',\n",
              " 22615: 'wiseguy',\n",
              " 27648: \"richie's\",\n",
              " 40904: 'tonino',\n",
              " 52187: 'unleavened',\n",
              " 11587: 'fry',\n",
              " 40905: \"'tv'\",\n",
              " 40906: 'toning',\n",
              " 14361: 'obese',\n",
              " 30589: 'sensationalized',\n",
              " 40907: 'spiv',\n",
              " 6259: 'spit',\n",
              " 7364: 'arkin',\n",
              " 21915: 'charleton',\n",
              " 16823: 'jeon',\n",
              " 21916: 'boardroom',\n",
              " 4989: 'doubts',\n",
              " 3084: 'spin',\n",
              " 53083: 'hepo',\n",
              " 27649: 'wildcat',\n",
              " 10584: 'venoms',\n",
              " 52191: 'misconstrues',\n",
              " 18514: 'mesmerising',\n",
              " 40908: 'misconstrued',\n",
              " 52192: 'rescinds',\n",
              " 52193: 'prostrate',\n",
              " 40909: 'majid',\n",
              " 16479: 'climbed',\n",
              " 34731: 'canoeing',\n",
              " 52195: 'majin',\n",
              " 57804: 'animie',\n",
              " 40910: 'sylke',\n",
              " 14899: 'conditioned',\n",
              " 40911: 'waddell',\n",
              " 52196: '3\\x85',\n",
              " 41188: 'hyperdrive',\n",
              " 34732: 'conditioner',\n",
              " 53153: 'bricklayer',\n",
              " 2576: 'hong',\n",
              " 52198: 'memoriam',\n",
              " 30592: 'inventively',\n",
              " 25249: \"levant's\",\n",
              " 20638: 'portobello',\n",
              " 52200: 'remand',\n",
              " 19504: 'mummified',\n",
              " 27650: 'honk',\n",
              " 19505: 'spews',\n",
              " 40912: 'visitations',\n",
              " 52201: 'mummifies',\n",
              " 25250: 'cavanaugh',\n",
              " 23385: 'zeon',\n",
              " 40913: \"jungle's\",\n",
              " 34733: 'viertel',\n",
              " 27651: 'frenchmen',\n",
              " 52202: 'torpedoes',\n",
              " 52203: 'schlessinger',\n",
              " 34734: 'torpedoed',\n",
              " 69876: 'blister',\n",
              " 52204: 'cinefest',\n",
              " 34735: 'furlough',\n",
              " 52205: 'mainsequence',\n",
              " 40914: 'mentors',\n",
              " 9094: 'academic',\n",
              " 20602: 'stillness',\n",
              " 40915: 'academia',\n",
              " 52206: 'lonelier',\n",
              " 52207: 'nibby',\n",
              " 52208: \"losers'\",\n",
              " 40916: 'cineastes',\n",
              " 4449: 'corporate',\n",
              " 40917: 'massaging',\n",
              " 30593: 'bellow',\n",
              " 19506: 'absurdities',\n",
              " 53241: 'expetations',\n",
              " 40918: 'nyfiken',\n",
              " 75638: 'mehras',\n",
              " 52209: 'lasse',\n",
              " 52210: 'visability',\n",
              " 33946: 'militarily',\n",
              " 52211: \"elder'\",\n",
              " 19023: 'gainsbourg',\n",
              " 20603: 'hah',\n",
              " 13420: 'hai',\n",
              " 34736: 'haj',\n",
              " 25251: 'hak',\n",
              " 4311: 'hal',\n",
              " 4892: 'ham',\n",
              " 53259: 'duffer',\n",
              " 52213: 'haa',\n",
              " 66: 'had',\n",
              " 11930: 'advancement',\n",
              " 16825: 'hag',\n",
              " 25252: \"hand'\",\n",
              " 13421: 'hay',\n",
              " 20604: 'mcnamara',\n",
              " 52214: \"mozart's\",\n",
              " 30731: 'duffel',\n",
              " 30594: 'haq',\n",
              " 13887: 'har',\n",
              " 44: 'has',\n",
              " 2401: 'hat',\n",
              " 40919: 'hav',\n",
              " 30595: 'haw',\n",
              " 52215: 'figtings',\n",
              " 15495: 'elders',\n",
              " 52216: 'underpanted',\n",
              " 52217: 'pninson',\n",
              " 27652: 'unequivocally',\n",
              " 23673: \"barbara's\",\n",
              " 52219: \"bello'\",\n",
              " 12997: 'indicative',\n",
              " 40920: 'yawnfest',\n",
              " 52220: 'hexploitation',\n",
              " 52221: \"loder's\",\n",
              " 27653: 'sleuthing',\n",
              " 32622: \"justin's\",\n",
              " 52222: \"'ball\",\n",
              " 52223: \"'summer\",\n",
              " 34935: \"'demons'\",\n",
              " 52225: \"mormon's\",\n",
              " 34737: \"laughton's\",\n",
              " 52226: 'debell',\n",
              " 39724: 'shipyard',\n",
              " 30597: 'unabashedly',\n",
              " 40401: 'disks',\n",
              " 2290: 'crowd',\n",
              " 10087: 'crowe',\n",
              " 56434: \"vancouver's\",\n",
              " 34738: 'mosques',\n",
              " 6627: 'crown',\n",
              " 52227: 'culpas',\n",
              " 27654: 'crows',\n",
              " 53344: 'surrell',\n",
              " 52229: 'flowless',\n",
              " 52230: 'sheirk',\n",
              " 40923: \"'three\",\n",
              " 52231: \"peterson'\",\n",
              " 52232: 'ooverall',\n",
              " 40924: 'perchance',\n",
              " 1321: 'bottom',\n",
              " 53363: 'chabert',\n",
              " 52233: 'sneha',\n",
              " 13888: 'inhuman',\n",
              " 52234: 'ichii',\n",
              " 52235: 'ursla',\n",
              " 30598: 'completly',\n",
              " 40925: 'moviedom',\n",
              " 52236: 'raddick',\n",
              " 51995: 'brundage',\n",
              " 40926: 'brigades',\n",
              " 1181: 'starring',\n",
              " 52237: \"'goal'\",\n",
              " 52238: 'caskets',\n",
              " 52239: 'willcock',\n",
              " 52240: \"threesome's\",\n",
              " 52241: \"mosque'\",\n",
              " 52242: \"cover's\",\n",
              " 17637: 'spaceships',\n",
              " 40927: 'anomalous',\n",
              " 27655: 'ptsd',\n",
              " 52243: 'shirdan',\n",
              " 21962: 'obscenity',\n",
              " 30599: 'lemmings',\n",
              " 30600: 'duccio',\n",
              " 52244: \"levene's\",\n",
              " 52245: \"'gorby'\",\n",
              " 25255: \"teenager's\",\n",
              " 5340: 'marshall',\n",
              " 9095: 'honeymoon',\n",
              " 3231: 'shoots',\n",
              " 12258: 'despised',\n",
              " 52246: 'okabasho',\n",
              " 8289: 'fabric',\n",
              " 18515: 'cannavale',\n",
              " 3537: 'raped',\n",
              " 52247: \"tutt's\",\n",
              " 17638: 'grasping',\n",
              " 18516: 'despises',\n",
              " 40928: \"thief's\",\n",
              " 8926: 'rapes',\n",
              " 52248: 'raper',\n",
              " 27656: \"eyre'\",\n",
              " 52249: 'walchek',\n",
              " 23386: \"elmo's\",\n",
              " 40929: 'perfumes',\n",
              " 21918: 'spurting',\n",
              " 52250: \"exposition'\\x85\",\n",
              " 52251: 'denoting',\n",
              " 34740: 'thesaurus',\n",
              " 40930: \"shoot'\",\n",
              " 49759: 'bonejack',\n",
              " 52253: 'simpsonian',\n",
              " 30601: 'hebetude',\n",
              " 34741: \"hallow's\",\n",
              " 52254: 'desperation\\x85',\n",
              " 34742: 'incinerator',\n",
              " 10308: 'congratulations',\n",
              " 52255: 'humbled',\n",
              " 5924: \"else's\",\n",
              " 40845: 'trelkovski',\n",
              " 52256: \"rape'\",\n",
              " 59386: \"'chapters'\",\n",
              " 52257: '1600s',\n",
              " 7253: 'martian',\n",
              " 25256: 'nicest',\n",
              " 52259: 'eyred',\n",
              " 9457: 'passenger',\n",
              " 6041: 'disgrace',\n",
              " 52260: 'moderne',\n",
              " 5120: 'barrymore',\n",
              " 52261: 'yankovich',\n",
              " 40931: 'moderns',\n",
              " 52262: 'studliest',\n",
              " 52263: 'bedsheet',\n",
              " 14900: 'decapitation',\n",
              " 52264: 'slurring',\n",
              " 52265: \"'nunsploitation'\",\n",
              " 34743: \"'character'\",\n",
              " 9880: 'cambodia',\n",
              " 52266: 'rebelious',\n",
              " 27657: 'pasadena',\n",
              " 40932: 'crowne',\n",
              " 52267: \"'bedchamber\",\n",
              " 52268: 'conjectural',\n",
              " 52269: 'appologize',\n",
              " 52270: 'halfassing',\n",
              " 57816: 'paycheque',\n",
              " 20606: 'palms',\n",
              " 52271: \"'islands\",\n",
              " 40933: 'hawked',\n",
              " 21919: 'palme',\n",
              " 40934: 'conservatively',\n",
              " 64007: 'larp',\n",
              " 5558: 'palma',\n",
              " 21920: 'smelling',\n",
              " 12998: 'aragorn',\n",
              " 52272: 'hawker',\n",
              " 52273: 'hawkes',\n",
              " 3975: 'explosions',\n",
              " 8059: 'loren',\n",
              " 52274: \"pyle's\",\n",
              " 6704: 'shootout',\n",
              " 18517: \"mike's\",\n",
              " 52275: \"driscoll's\",\n",
              " 40935: 'cogsworth',\n",
              " 52276: \"britian's\",\n",
              " 34744: 'childs',\n",
              " 52277: \"portrait's\",\n",
              " 3626: 'chain',\n",
              " 2497: 'whoever',\n",
              " 52278: 'puttered',\n",
              " 52279: 'childe',\n",
              " 52280: 'maywether',\n",
              " 3036: 'chair',\n",
              " 52281: \"rance's\",\n",
              " 34745: 'machu',\n",
              " 4517: 'ballet',\n",
              " 34746: 'grapples',\n",
              " 76152: 'summerize',\n",
              " 30603: 'freelance',\n",
              " 52283: \"andrea's\",\n",
              " 52284: '\\x91very',\n",
              " 45879: 'coolidge',\n",
              " 18518: 'mache',\n",
              " 52285: 'balled',\n",
              " 40937: 'grappled',\n",
              " 18519: 'macha',\n",
              " 21921: 'underlining',\n",
              " 5623: 'macho',\n",
              " 19507: 'oversight',\n",
              " 25257: 'machi',\n",
              " 11311: 'verbally',\n",
              " 21922: 'tenacious',\n",
              " 40938: 'windshields',\n",
              " 18557: 'paychecks',\n",
              " 3396: 'jerk',\n",
              " 11931: \"good'\",\n",
              " 34748: 'prancer',\n",
              " 21923: 'prances',\n",
              " 52286: 'olympus',\n",
              " 21924: 'lark',\n",
              " 10785: 'embark',\n",
              " 7365: 'gloomy',\n",
              " 52287: 'jehaan',\n",
              " 52288: 'turaqui',\n",
              " 20607: \"child'\",\n",
              " 2894: 'locked',\n",
              " 52289: 'pranced',\n",
              " 2588: 'exact',\n",
              " 52290: 'unattuned',\n",
              " 783: 'minute',\n",
              " 16118: 'skewed',\n",
              " 40940: 'hodgins',\n",
              " 34749: 'skewer',\n",
              " 52291: 'think\\x85',\n",
              " 38765: 'rosenstein',\n",
              " 52292: 'helmit',\n",
              " 34750: 'wrestlemanias',\n",
              " 16826: 'hindered',\n",
              " 30604: \"martha's\",\n",
              " 52293: 'cheree',\n",
              " 52294: \"pluckin'\",\n",
              " 40941: 'ogles',\n",
              " 11932: 'heavyweight',\n",
              " 82190: 'aada',\n",
              " 11312: 'chopping',\n",
              " 61534: 'strongboy',\n",
              " 41342: 'hegemonic',\n",
              " 40942: 'adorns',\n",
              " 41346: 'xxth',\n",
              " 34751: 'nobuhiro',\n",
              " 52298: 'capitães',\n",
              " 52299: 'kavogianni',\n",
              " 13422: 'antwerp',\n",
              " 6538: 'celebrated',\n",
              " 52300: 'roarke',\n",
              " 40943: 'baggins',\n",
              " 31270: 'cheeseburgers',\n",
              " 52301: 'matras',\n",
              " 52302: \"nineties'\",\n",
              " 52303: \"'craig'\",\n",
              " 12999: 'celebrates',\n",
              " 3383: 'unintentionally',\n",
              " 14362: 'drafted',\n",
              " 52304: 'climby',\n",
              " 52305: '303',\n",
              " 18520: 'oldies',\n",
              " 9096: 'climbs',\n",
              " 9655: 'honour',\n",
              " 34752: 'plucking',\n",
              " 30074: '305',\n",
              " 5514: 'address',\n",
              " 40944: 'menjou',\n",
              " 42592: \"'freak'\",\n",
              " 19508: 'dwindling',\n",
              " 9458: 'benson',\n",
              " 52307: 'white’s',\n",
              " 40945: 'shamelessness',\n",
              " 21925: 'impacted',\n",
              " 52308: 'upatz',\n",
              " 3840: 'cusack',\n",
              " 37567: \"flavia's\",\n",
              " 52309: 'effette',\n",
              " 34753: 'influx',\n",
              " 52310: 'boooooooo',\n",
              " 52311: 'dimitrova',\n",
              " 13423: 'houseman',\n",
              " 25259: 'bigas',\n",
              " 52312: 'boylen',\n",
              " 52313: 'phillipenes',\n",
              " 40946: 'fakery',\n",
              " 27658: \"grandpa's\",\n",
              " 27659: 'darnell',\n",
              " 19509: 'undergone',\n",
              " 52315: 'handbags',\n",
              " 21926: 'perished',\n",
              " 37778: 'pooped',\n",
              " 27660: 'vigour',\n",
              " 3627: 'opposed',\n",
              " 52316: 'etude',\n",
              " 11799: \"caine's\",\n",
              " 52317: 'doozers',\n",
              " 34754: 'photojournals',\n",
              " 52318: 'perishes',\n",
              " 34755: 'constrains',\n",
              " 40948: 'migenes',\n",
              " 30605: 'consoled',\n",
              " 16827: 'alastair',\n",
              " 52319: 'wvs',\n",
              " 52320: 'ooooooh',\n",
              " 34756: 'approving',\n",
              " 40949: 'consoles',\n",
              " 52064: 'disparagement',\n",
              " 52322: 'futureistic',\n",
              " 52323: 'rebounding',\n",
              " 52324: \"'date\",\n",
              " 52325: 'gregoire',\n",
              " 21927: 'rutherford',\n",
              " 34757: 'americanised',\n",
              " 82196: 'novikov',\n",
              " 1042: 'following',\n",
              " 34758: 'munroe',\n",
              " 52326: \"morita'\",\n",
              " 52327: 'christenssen',\n",
              " 23106: 'oatmeal',\n",
              " 25260: 'fossey',\n",
              " 40950: 'livered',\n",
              " 13000: 'listens',\n",
              " 76164: \"'marci\",\n",
              " 52330: \"otis's\",\n",
              " 23387: 'thanking',\n",
              " 16019: 'maude',\n",
              " 34759: 'extensions',\n",
              " 52332: 'ameteurish',\n",
              " 52333: \"commender's\",\n",
              " 27661: 'agricultural',\n",
              " 4518: 'convincingly',\n",
              " 17639: 'fueled',\n",
              " 54014: 'mahattan',\n",
              " 40952: \"paris's\",\n",
              " 52336: 'vulkan',\n",
              " 52337: 'stapes',\n",
              " 52338: 'odysessy',\n",
              " 12259: 'harmon',\n",
              " 4252: 'surfing',\n",
              " 23494: 'halloran',\n",
              " 49580: 'unbelieveably',\n",
              " 52339: \"'offed'\",\n",
              " 30607: 'quadrant',\n",
              " 19510: 'inhabiting',\n",
              " 34760: 'nebbish',\n",
              " 40953: 'forebears',\n",
              " 34761: 'skirmish',\n",
              " 52340: 'ocassionally',\n",
              " 52341: \"'resist\",\n",
              " 21928: 'impactful',\n",
              " 52342: 'spicier',\n",
              " 40954: 'touristy',\n",
              " 52343: \"'football'\",\n",
              " 40955: 'webpage',\n",
              " 52345: 'exurbia',\n",
              " 52346: 'jucier',\n",
              " 14901: 'professors',\n",
              " 34762: 'structuring',\n",
              " 30608: 'jig',\n",
              " 40956: 'overlord',\n",
              " 25261: 'disconnect',\n",
              " 82201: 'sniffle',\n",
              " 40957: 'slimeball',\n",
              " 40958: 'jia',\n",
              " 16828: 'milked',\n",
              " 40959: 'banjoes',\n",
              " 1237: 'jim',\n",
              " 52348: 'workforces',\n",
              " 52349: 'jip',\n",
              " 52350: 'rotweiller',\n",
              " 34763: 'mundaneness',\n",
              " 52351: \"'ninja'\",\n",
              " 11040: \"dead'\",\n",
              " 40960: \"cipriani's\",\n",
              " 20608: 'modestly',\n",
              " 52352: \"professor'\",\n",
              " 40961: 'shacked',\n",
              " 34764: 'bashful',\n",
              " 23388: 'sorter',\n",
              " 16120: 'overpowering',\n",
              " 18521: 'workmanlike',\n",
              " 27662: 'henpecked',\n",
              " 18522: 'sorted',\n",
              " 52354: \"jōb's\",\n",
              " 52355: \"'always\",\n",
              " 34765: \"'baptists\",\n",
              " 52356: 'dreamcatchers',\n",
              " 52357: \"'silence'\",\n",
              " 21929: 'hickory',\n",
              " 52358: 'fun\\x97yet',\n",
              " 52359: 'breakumentary',\n",
              " 15496: 'didn',\n",
              " 52360: 'didi',\n",
              " 52361: 'pealing',\n",
              " 40962: 'dispite',\n",
              " 25262: \"italy's\",\n",
              " 21930: 'instability',\n",
              " 6539: 'quarter',\n",
              " 12608: 'quartet',\n",
              " 52362: 'padmé',\n",
              " 52363: \"'bleedmedry\",\n",
              " 52364: 'pahalniuk',\n",
              " 52365: 'honduras',\n",
              " 10786: 'bursting',\n",
              " 41465: \"pablo's\",\n",
              " 52367: 'irremediably',\n",
              " 40963: 'presages',\n",
              " 57832: 'bowlegged',\n",
              " 65183: 'dalip',\n",
              " 6260: 'entering',\n",
              " 76172: 'newsradio',\n",
              " 54150: 'presaged',\n",
              " 27663: \"giallo's\",\n",
              " 40964: 'bouyant',\n",
              " 52368: 'amerterish',\n",
              " 18523: 'rajni',\n",
              " 30610: 'leeves',\n",
              " 34767: 'macauley',\n",
              " 612: 'seriously',\n",
              " 52369: 'sugercoma',\n",
              " 52370: 'grimstead',\n",
              " 52371: \"'fairy'\",\n",
              " 30611: 'zenda',\n",
              " 52372: \"'twins'\",\n",
              " 17640: 'realisation',\n",
              " 27664: 'highsmith',\n",
              " 7817: 'raunchy',\n",
              " 40965: 'incentives',\n",
              " 52374: 'flatson',\n",
              " 35097: 'snooker',\n",
              " 16829: 'crazies',\n",
              " 14902: 'crazier',\n",
              " 7094: 'grandma',\n",
              " 52375: 'napunsaktha',\n",
              " 30612: 'workmanship',\n",
              " 52376: 'reisner',\n",
              " 61306: \"sanford's\",\n",
              " 52377: '\\x91doña',\n",
              " 6108: 'modest',\n",
              " 19153: \"everything's\",\n",
              " 40966: 'hamer',\n",
              " 52379: \"couldn't'\",\n",
              " 13001: 'quibble',\n",
              " 52380: 'socking',\n",
              " 21931: 'tingler',\n",
              " 52381: 'gutman',\n",
              " 40967: 'lachlan',\n",
              " 52382: 'tableaus',\n",
              " 52383: 'headbanger',\n",
              " 2847: 'spoken',\n",
              " 34768: 'cerebrally',\n",
              " 23490: \"'road\",\n",
              " 21932: 'tableaux',\n",
              " 40968: \"proust's\",\n",
              " 40969: 'periodical',\n",
              " 52385: \"shoveller's\",\n",
              " 25263: 'tamara',\n",
              " 17641: 'affords',\n",
              " 3249: 'concert',\n",
              " 87955: \"yara's\",\n",
              " 52386: 'someome',\n",
              " 8424: 'lingering',\n",
              " 41511: \"abraham's\",\n",
              " 34769: 'beesley',\n",
              " 34770: 'cherbourg',\n",
              " 28624: 'kagan',\n",
              " 9097: 'snatch',\n",
              " 9260: \"miyazaki's\",\n",
              " 25264: 'absorbs',\n",
              " 40970: \"koltai's\",\n",
              " 64027: 'tingled',\n",
              " 19511: 'crossroads',\n",
              " 16121: 'rehab',\n",
              " 52389: 'falworth',\n",
              " 52390: 'sequals',\n",
              " ...}"
            ]
          },
          "metadata": {},
          "execution_count": 21
        }
      ]
    },
    {
      "cell_type": "code",
      "source": [
        "decoded_review=' '.join([reverse_word_index.get(i - 3, '?') for i in sample_review])\n",
        "decoded_review"
      ],
      "metadata": {
        "colab": {
          "base_uri": "https://localhost:8080/",
          "height": 140
        },
        "id": "Y5Pz6BV7UciL",
        "outputId": "3c977d24-3d87-47d0-c46f-73b79d92c6cf"
      },
      "execution_count": 22,
      "outputs": [
        {
          "output_type": "execute_result",
          "data": {
            "text/plain": [
              "\"? this film was just brilliant casting location scenery story direction everyone's really suited the part they played and you could just imagine being there robert ? is an amazing actor and now the same being director ? father came from the same scottish island as myself so i loved the fact there was a real connection with this film the witty remarks throughout the film were great it was just brilliant so much that i bought the film as soon as it was released for ? and would recommend it to everyone to watch and the fly fishing was amazing really cried at the end it was so sad and you know what they say if you cry at a film it must have been good and this definitely was also ? to the two little boy's that played the ? of norman and paul they were just brilliant children are often left out of the ? list i think because the stars that play them all grown up are such a big profile for the whole film but these children are amazing and should be praised for what they have done don't you think the whole story was so lovely because it was true and was someone's life after all that was shared with us all\""
            ],
            "application/vnd.google.colaboratory.intrinsic+json": {
              "type": "string"
            }
          },
          "metadata": {},
          "execution_count": 22
        }
      ]
    },
    {
      "cell_type": "code",
      "source": [
        "from tensorflow.keras.preprocessing import sequence\n",
        "\n",
        "max_len=500\n",
        "\n",
        "X_train=sequence.pad_sequences(X_train,maxlen=max_len)\n",
        "X_test=sequence.pad_sequences(X_test,maxlen=max_len)\n",
        "X_train"
      ],
      "metadata": {
        "colab": {
          "base_uri": "https://localhost:8080/"
        },
        "id": "1y9nhAg5UfGa",
        "outputId": "41c13d91-6d56-4743-908d-75d6f5e65ca5"
      },
      "execution_count": 23,
      "outputs": [
        {
          "output_type": "execute_result",
          "data": {
            "text/plain": [
              "array([[   0,    0,    0, ...,   19,  178,   32],\n",
              "       [   0,    0,    0, ...,   16,  145,   95],\n",
              "       [   0,    0,    0, ...,    7,  129,  113],\n",
              "       ...,\n",
              "       [   0,    0,    0, ...,    4, 3586,    2],\n",
              "       [   0,    0,    0, ...,   12,    9,   23],\n",
              "       [   0,    0,    0, ...,  204,  131,    9]], dtype=int32)"
            ]
          },
          "metadata": {},
          "execution_count": 23
        }
      ]
    },
    {
      "cell_type": "code",
      "source": [
        "X_train[0]"
      ],
      "metadata": {
        "colab": {
          "base_uri": "https://localhost:8080/"
        },
        "id": "oEf1-042UibS",
        "outputId": "d6d8aca4-3308-4688-adc5-bc026ac5e05b"
      },
      "execution_count": 24,
      "outputs": [
        {
          "output_type": "execute_result",
          "data": {
            "text/plain": [
              "array([   0,    0,    0,    0,    0,    0,    0,    0,    0,    0,    0,\n",
              "          0,    0,    0,    0,    0,    0,    0,    0,    0,    0,    0,\n",
              "          0,    0,    0,    0,    0,    0,    0,    0,    0,    0,    0,\n",
              "          0,    0,    0,    0,    0,    0,    0,    0,    0,    0,    0,\n",
              "          0,    0,    0,    0,    0,    0,    0,    0,    0,    0,    0,\n",
              "          0,    0,    0,    0,    0,    0,    0,    0,    0,    0,    0,\n",
              "          0,    0,    0,    0,    0,    0,    0,    0,    0,    0,    0,\n",
              "          0,    0,    0,    0,    0,    0,    0,    0,    0,    0,    0,\n",
              "          0,    0,    0,    0,    0,    0,    0,    0,    0,    0,    0,\n",
              "          0,    0,    0,    0,    0,    0,    0,    0,    0,    0,    0,\n",
              "          0,    0,    0,    0,    0,    0,    0,    0,    0,    0,    0,\n",
              "          0,    0,    0,    0,    0,    0,    0,    0,    0,    0,    0,\n",
              "          0,    0,    0,    0,    0,    0,    0,    0,    0,    0,    0,\n",
              "          0,    0,    0,    0,    0,    0,    0,    0,    0,    0,    0,\n",
              "          0,    0,    0,    0,    0,    0,    0,    0,    0,    0,    0,\n",
              "          0,    0,    0,    0,    0,    0,    0,    0,    0,    0,    0,\n",
              "          0,    0,    0,    0,    0,    0,    0,    0,    0,    0,    0,\n",
              "          0,    0,    0,    0,    0,    0,    0,    0,    0,    0,    0,\n",
              "          0,    0,    0,    0,    0,    0,    0,    0,    0,    0,    0,\n",
              "          0,    0,    0,    0,    0,    0,    0,    0,    0,    0,    0,\n",
              "          0,    0,    0,    0,    0,    0,    0,    0,    0,    0,    0,\n",
              "          0,    0,    0,    0,    0,    0,    0,    0,    0,    0,    0,\n",
              "          0,    0,    0,    0,    0,    0,    0,    0,    0,    0,    0,\n",
              "          0,    0,    0,    0,    0,    0,    0,    0,    0,    0,    0,\n",
              "          0,    0,    0,    0,    0,    0,    0,    0,    0,    0,    0,\n",
              "          0,    0,    0,    0,    0,    0,    0,    1,   14,   22,   16,\n",
              "         43,  530,  973, 1622, 1385,   65,  458, 4468,   66, 3941,    4,\n",
              "        173,   36,  256,    5,   25,  100,   43,  838,  112,   50,  670,\n",
              "          2,    9,   35,  480,  284,    5,  150,    4,  172,  112,  167,\n",
              "          2,  336,  385,   39,    4,  172, 4536, 1111,   17,  546,   38,\n",
              "         13,  447,    4,  192,   50,   16,    6,  147, 2025,   19,   14,\n",
              "         22,    4, 1920, 4613,  469,    4,   22,   71,   87,   12,   16,\n",
              "         43,  530,   38,   76,   15,   13, 1247,    4,   22,   17,  515,\n",
              "         17,   12,   16,  626,   18,    2,    5,   62,  386,   12,    8,\n",
              "        316,    8,  106,    5,    4, 2223, 5244,   16,  480,   66, 3785,\n",
              "         33,    4,  130,   12,   16,   38,  619,    5,   25,  124,   51,\n",
              "         36,  135,   48,   25, 1415,   33,    6,   22,   12,  215,   28,\n",
              "         77,   52,    5,   14,  407,   16,   82,    2,    8,    4,  107,\n",
              "        117, 5952,   15,  256,    4,    2,    7, 3766,    5,  723,   36,\n",
              "         71,   43,  530,  476,   26,  400,  317,   46,    7,    4,    2,\n",
              "       1029,   13,  104,   88,    4,  381,   15,  297,   98,   32, 2071,\n",
              "         56,   26,  141,    6,  194, 7486,   18,    4,  226,   22,   21,\n",
              "        134,  476,   26,  480,    5,  144,   30, 5535,   18,   51,   36,\n",
              "         28,  224,   92,   25,  104,    4,  226,   65,   16,   38, 1334,\n",
              "         88,   12,   16,  283,    5,   16, 4472,  113,  103,   32,   15,\n",
              "         16, 5345,   19,  178,   32], dtype=int32)"
            ]
          },
          "metadata": {},
          "execution_count": 24
        }
      ]
    },
    {
      "cell_type": "code",
      "source": [
        "## Train Simple RNN\n",
        "model=Sequential()\n",
        "model.add(Embedding(max_features,128,input_length=max_len)) ## Embedding layer - Taking all the words converting that particular word into a vector of this dimensions\n",
        "model.add(SimpleRNN(128,activation='relu'))\n",
        "model.add(Dense(1,activation=\"sigmoid\"))\n",
        "\n",
        "# Build model with batch size=None (flexible) and sequence length=max_len\n",
        "model.build(input_shape=(None, max_len))"
      ],
      "metadata": {
        "colab": {
          "base_uri": "https://localhost:8080/"
        },
        "id": "cI_P-Ly7UlcS",
        "outputId": "84245a94-dbd8-4986-a7c2-2d33bf90a2a5"
      },
      "execution_count": 25,
      "outputs": [
        {
          "output_type": "stream",
          "name": "stderr",
          "text": [
            "/usr/local/lib/python3.12/dist-packages/keras/src/layers/core/embedding.py:97: UserWarning: Argument `input_length` is deprecated. Just remove it.\n",
            "  warnings.warn(\n"
          ]
        }
      ]
    },
    {
      "cell_type": "code",
      "source": [
        "model.summary()"
      ],
      "metadata": {
        "colab": {
          "base_uri": "https://localhost:8080/",
          "height": 238
        },
        "id": "gmlxoHjCUrWK",
        "outputId": "6ce47bf8-13eb-4d6f-ab14-c0165c45a6a1"
      },
      "execution_count": 26,
      "outputs": [
        {
          "output_type": "display_data",
          "data": {
            "text/plain": [
              "\u001b[1mModel: \"sequential_1\"\u001b[0m\n"
            ],
            "text/html": [
              "<pre style=\"white-space:pre;overflow-x:auto;line-height:normal;font-family:Menlo,'DejaVu Sans Mono',consolas,'Courier New',monospace\"><span style=\"font-weight: bold\">Model: \"sequential_1\"</span>\n",
              "</pre>\n"
            ]
          },
          "metadata": {}
        },
        {
          "output_type": "display_data",
          "data": {
            "text/plain": [
              "┏━━━━━━━━━━━━━━━━━━━━━━━━━━━━━━━━━┳━━━━━━━━━━━━━━━━━━━━━━━━┳━━━━━━━━━━━━━━━┓\n",
              "┃\u001b[1m \u001b[0m\u001b[1mLayer (type)                   \u001b[0m\u001b[1m \u001b[0m┃\u001b[1m \u001b[0m\u001b[1mOutput Shape          \u001b[0m\u001b[1m \u001b[0m┃\u001b[1m \u001b[0m\u001b[1m      Param #\u001b[0m\u001b[1m \u001b[0m┃\n",
              "┡━━━━━━━━━━━━━━━━━━━━━━━━━━━━━━━━━╇━━━━━━━━━━━━━━━━━━━━━━━━╇━━━━━━━━━━━━━━━┩\n",
              "│ embedding_1 (\u001b[38;5;33mEmbedding\u001b[0m)         │ (\u001b[38;5;45mNone\u001b[0m, \u001b[38;5;34m500\u001b[0m, \u001b[38;5;34m128\u001b[0m)       │     \u001b[38;5;34m1,280,000\u001b[0m │\n",
              "├─────────────────────────────────┼────────────────────────┼───────────────┤\n",
              "│ simple_rnn (\u001b[38;5;33mSimpleRNN\u001b[0m)          │ (\u001b[38;5;45mNone\u001b[0m, \u001b[38;5;34m128\u001b[0m)            │        \u001b[38;5;34m32,896\u001b[0m │\n",
              "├─────────────────────────────────┼────────────────────────┼───────────────┤\n",
              "│ dense (\u001b[38;5;33mDense\u001b[0m)                   │ (\u001b[38;5;45mNone\u001b[0m, \u001b[38;5;34m1\u001b[0m)              │           \u001b[38;5;34m129\u001b[0m │\n",
              "└─────────────────────────────────┴────────────────────────┴───────────────┘\n"
            ],
            "text/html": [
              "<pre style=\"white-space:pre;overflow-x:auto;line-height:normal;font-family:Menlo,'DejaVu Sans Mono',consolas,'Courier New',monospace\">┏━━━━━━━━━━━━━━━━━━━━━━━━━━━━━━━━━┳━━━━━━━━━━━━━━━━━━━━━━━━┳━━━━━━━━━━━━━━━┓\n",
              "┃<span style=\"font-weight: bold\"> Layer (type)                    </span>┃<span style=\"font-weight: bold\"> Output Shape           </span>┃<span style=\"font-weight: bold\">       Param # </span>┃\n",
              "┡━━━━━━━━━━━━━━━━━━━━━━━━━━━━━━━━━╇━━━━━━━━━━━━━━━━━━━━━━━━╇━━━━━━━━━━━━━━━┩\n",
              "│ embedding_1 (<span style=\"color: #0087ff; text-decoration-color: #0087ff\">Embedding</span>)         │ (<span style=\"color: #00d7ff; text-decoration-color: #00d7ff\">None</span>, <span style=\"color: #00af00; text-decoration-color: #00af00\">500</span>, <span style=\"color: #00af00; text-decoration-color: #00af00\">128</span>)       │     <span style=\"color: #00af00; text-decoration-color: #00af00\">1,280,000</span> │\n",
              "├─────────────────────────────────┼────────────────────────┼───────────────┤\n",
              "│ simple_rnn (<span style=\"color: #0087ff; text-decoration-color: #0087ff\">SimpleRNN</span>)          │ (<span style=\"color: #00d7ff; text-decoration-color: #00d7ff\">None</span>, <span style=\"color: #00af00; text-decoration-color: #00af00\">128</span>)            │        <span style=\"color: #00af00; text-decoration-color: #00af00\">32,896</span> │\n",
              "├─────────────────────────────────┼────────────────────────┼───────────────┤\n",
              "│ dense (<span style=\"color: #0087ff; text-decoration-color: #0087ff\">Dense</span>)                   │ (<span style=\"color: #00d7ff; text-decoration-color: #00d7ff\">None</span>, <span style=\"color: #00af00; text-decoration-color: #00af00\">1</span>)              │           <span style=\"color: #00af00; text-decoration-color: #00af00\">129</span> │\n",
              "└─────────────────────────────────┴────────────────────────┴───────────────┘\n",
              "</pre>\n"
            ]
          },
          "metadata": {}
        },
        {
          "output_type": "display_data",
          "data": {
            "text/plain": [
              "\u001b[1m Total params: \u001b[0m\u001b[38;5;34m1,313,025\u001b[0m (5.01 MB)\n"
            ],
            "text/html": [
              "<pre style=\"white-space:pre;overflow-x:auto;line-height:normal;font-family:Menlo,'DejaVu Sans Mono',consolas,'Courier New',monospace\"><span style=\"font-weight: bold\"> Total params: </span><span style=\"color: #00af00; text-decoration-color: #00af00\">1,313,025</span> (5.01 MB)\n",
              "</pre>\n"
            ]
          },
          "metadata": {}
        },
        {
          "output_type": "display_data",
          "data": {
            "text/plain": [
              "\u001b[1m Trainable params: \u001b[0m\u001b[38;5;34m1,313,025\u001b[0m (5.01 MB)\n"
            ],
            "text/html": [
              "<pre style=\"white-space:pre;overflow-x:auto;line-height:normal;font-family:Menlo,'DejaVu Sans Mono',consolas,'Courier New',monospace\"><span style=\"font-weight: bold\"> Trainable params: </span><span style=\"color: #00af00; text-decoration-color: #00af00\">1,313,025</span> (5.01 MB)\n",
              "</pre>\n"
            ]
          },
          "metadata": {}
        },
        {
          "output_type": "display_data",
          "data": {
            "text/plain": [
              "\u001b[1m Non-trainable params: \u001b[0m\u001b[38;5;34m0\u001b[0m (0.00 B)\n"
            ],
            "text/html": [
              "<pre style=\"white-space:pre;overflow-x:auto;line-height:normal;font-family:Menlo,'DejaVu Sans Mono',consolas,'Courier New',monospace\"><span style=\"font-weight: bold\"> Non-trainable params: </span><span style=\"color: #00af00; text-decoration-color: #00af00\">0</span> (0.00 B)\n",
              "</pre>\n"
            ]
          },
          "metadata": {}
        }
      ]
    },
    {
      "cell_type": "code",
      "source": [
        "model.compile(optimizer='adam',loss='binary_crossentropy',metrics=['accuracy'])"
      ],
      "metadata": {
        "id": "wSvPs23IUtMK"
      },
      "execution_count": 27,
      "outputs": []
    },
    {
      "cell_type": "code",
      "source": [
        "## create an instance of EarlyStopping Callback\n",
        "from tensorflow.keras.callbacks import EarlyStopping\n",
        "early_stopping=EarlyStopping(monitor='val_loss',patience=5,restore_best_weights=True)"
      ],
      "metadata": {
        "id": "rN1uGeRwUx6T"
      },
      "execution_count": 28,
      "outputs": []
    },
    {
      "cell_type": "code",
      "source": [
        "## Train the model with early stopping\n",
        "history=model.fit(\n",
        "    X_train,y_train,epochs=10,batch_size=32,\n",
        "    validation_split=0.2,\n",
        "    callbacks=[early_stopping]\n",
        ")"
      ],
      "metadata": {
        "colab": {
          "base_uri": "https://localhost:8080/"
        },
        "id": "F0wvaIw-U0uy",
        "outputId": "489a56e1-d26c-484c-b7ca-a40c6bcf29ae"
      },
      "execution_count": 31,
      "outputs": [
        {
          "output_type": "stream",
          "name": "stdout",
          "text": [
            "Epoch 1/10\n",
            "\u001b[1m625/625\u001b[0m \u001b[32m━━━━━━━━━━━━━━━━━━━━\u001b[0m\u001b[37m\u001b[0m \u001b[1m29s\u001b[0m 42ms/step - accuracy: 0.6132 - loss: 62670.6211 - val_accuracy: 0.5752 - val_loss: 0.6668\n",
            "Epoch 2/10\n",
            "\u001b[1m625/625\u001b[0m \u001b[32m━━━━━━━━━━━━━━━━━━━━\u001b[0m\u001b[37m\u001b[0m \u001b[1m40s\u001b[0m 42ms/step - accuracy: 0.6319 - loss: 28.6295 - val_accuracy: 0.6356 - val_loss: 0.6289\n",
            "Epoch 3/10\n",
            "\u001b[1m625/625\u001b[0m \u001b[32m━━━━━━━━━━━━━━━━━━━━\u001b[0m\u001b[37m\u001b[0m \u001b[1m26s\u001b[0m 42ms/step - accuracy: 0.5760 - loss: nan - val_accuracy: 0.5062 - val_loss: nan\n",
            "Epoch 4/10\n",
            "\u001b[1m625/625\u001b[0m \u001b[32m━━━━━━━━━━━━━━━━━━━━\u001b[0m\u001b[37m\u001b[0m \u001b[1m41s\u001b[0m 43ms/step - accuracy: 0.4989 - loss: nan - val_accuracy: 0.5062 - val_loss: nan\n",
            "Epoch 5/10\n",
            "\u001b[1m625/625\u001b[0m \u001b[32m━━━━━━━━━━━━━━━━━━━━\u001b[0m\u001b[37m\u001b[0m \u001b[1m40s\u001b[0m 41ms/step - accuracy: 0.5058 - loss: nan - val_accuracy: 0.5062 - val_loss: nan\n",
            "Epoch 6/10\n",
            "\u001b[1m625/625\u001b[0m \u001b[32m━━━━━━━━━━━━━━━━━━━━\u001b[0m\u001b[37m\u001b[0m \u001b[1m41s\u001b[0m 40ms/step - accuracy: 0.4944 - loss: nan - val_accuracy: 0.5062 - val_loss: nan\n",
            "Epoch 7/10\n",
            "\u001b[1m625/625\u001b[0m \u001b[32m━━━━━━━━━━━━━━━━━━━━\u001b[0m\u001b[37m\u001b[0m \u001b[1m42s\u001b[0m 42ms/step - accuracy: 0.4947 - loss: nan - val_accuracy: 0.5062 - val_loss: nan\n"
          ]
        }
      ]
    },
    {
      "cell_type": "code",
      "source": [
        "## Save model file\n",
        "model.save('simple_rnn_imdb.h5')"
      ],
      "metadata": {
        "colab": {
          "base_uri": "https://localhost:8080/"
        },
        "id": "A60RUElbU2na",
        "outputId": "c842dd38-e952-4eec-c505-7813edb530c4"
      },
      "execution_count": 32,
      "outputs": [
        {
          "output_type": "stream",
          "name": "stderr",
          "text": [
            "WARNING:absl:You are saving your model as an HDF5 file via `model.save()` or `keras.saving.save_model(model)`. This file format is considered legacy. We recommend using instead the native Keras format, e.g. `model.save('my_model.keras')` or `keras.saving.save_model(model, 'my_model.keras')`. \n"
          ]
        }
      ]
    },
    {
      "cell_type": "code",
      "source": [
        "## load the pre-trained model with RelU activation\n",
        "from tensorflow.keras.models import load_model\n",
        "model=load_model('simple_rnn_imdb.h5')\n",
        "model.summary()"
      ],
      "metadata": {
        "colab": {
          "base_uri": "https://localhost:8080/",
          "height": 292
        },
        "id": "rRU1dN01WN4R",
        "outputId": "ed8a1b26-6f3f-4c0d-cfc6-1131e92b7b86"
      },
      "execution_count": 47,
      "outputs": [
        {
          "output_type": "stream",
          "name": "stderr",
          "text": [
            "WARNING:absl:Compiled the loaded model, but the compiled metrics have yet to be built. `model.compile_metrics` will be empty until you train or evaluate the model.\n"
          ]
        },
        {
          "output_type": "display_data",
          "data": {
            "text/plain": [
              "\u001b[1mModel: \"sequential_1\"\u001b[0m\n"
            ],
            "text/html": [
              "<pre style=\"white-space:pre;overflow-x:auto;line-height:normal;font-family:Menlo,'DejaVu Sans Mono',consolas,'Courier New',monospace\"><span style=\"font-weight: bold\">Model: \"sequential_1\"</span>\n",
              "</pre>\n"
            ]
          },
          "metadata": {}
        },
        {
          "output_type": "display_data",
          "data": {
            "text/plain": [
              "┏━━━━━━━━━━━━━━━━━━━━━━━━━━━━━━━━━┳━━━━━━━━━━━━━━━━━━━━━━━━┳━━━━━━━━━━━━━━━┓\n",
              "┃\u001b[1m \u001b[0m\u001b[1mLayer (type)                   \u001b[0m\u001b[1m \u001b[0m┃\u001b[1m \u001b[0m\u001b[1mOutput Shape          \u001b[0m\u001b[1m \u001b[0m┃\u001b[1m \u001b[0m\u001b[1m      Param #\u001b[0m\u001b[1m \u001b[0m┃\n",
              "┡━━━━━━━━━━━━━━━━━━━━━━━━━━━━━━━━━╇━━━━━━━━━━━━━━━━━━━━━━━━╇━━━━━━━━━━━━━━━┩\n",
              "│ embedding_1 (\u001b[38;5;33mEmbedding\u001b[0m)         │ (\u001b[38;5;45mNone\u001b[0m, \u001b[38;5;34m500\u001b[0m, \u001b[38;5;34m128\u001b[0m)       │     \u001b[38;5;34m1,280,000\u001b[0m │\n",
              "├─────────────────────────────────┼────────────────────────┼───────────────┤\n",
              "│ simple_rnn (\u001b[38;5;33mSimpleRNN\u001b[0m)          │ (\u001b[38;5;45mNone\u001b[0m, \u001b[38;5;34m128\u001b[0m)            │        \u001b[38;5;34m32,896\u001b[0m │\n",
              "├─────────────────────────────────┼────────────────────────┼───────────────┤\n",
              "│ dense (\u001b[38;5;33mDense\u001b[0m)                   │ (\u001b[38;5;45mNone\u001b[0m, \u001b[38;5;34m1\u001b[0m)              │           \u001b[38;5;34m129\u001b[0m │\n",
              "└─────────────────────────────────┴────────────────────────┴───────────────┘\n"
            ],
            "text/html": [
              "<pre style=\"white-space:pre;overflow-x:auto;line-height:normal;font-family:Menlo,'DejaVu Sans Mono',consolas,'Courier New',monospace\">┏━━━━━━━━━━━━━━━━━━━━━━━━━━━━━━━━━┳━━━━━━━━━━━━━━━━━━━━━━━━┳━━━━━━━━━━━━━━━┓\n",
              "┃<span style=\"font-weight: bold\"> Layer (type)                    </span>┃<span style=\"font-weight: bold\"> Output Shape           </span>┃<span style=\"font-weight: bold\">       Param # </span>┃\n",
              "┡━━━━━━━━━━━━━━━━━━━━━━━━━━━━━━━━━╇━━━━━━━━━━━━━━━━━━━━━━━━╇━━━━━━━━━━━━━━━┩\n",
              "│ embedding_1 (<span style=\"color: #0087ff; text-decoration-color: #0087ff\">Embedding</span>)         │ (<span style=\"color: #00d7ff; text-decoration-color: #00d7ff\">None</span>, <span style=\"color: #00af00; text-decoration-color: #00af00\">500</span>, <span style=\"color: #00af00; text-decoration-color: #00af00\">128</span>)       │     <span style=\"color: #00af00; text-decoration-color: #00af00\">1,280,000</span> │\n",
              "├─────────────────────────────────┼────────────────────────┼───────────────┤\n",
              "│ simple_rnn (<span style=\"color: #0087ff; text-decoration-color: #0087ff\">SimpleRNN</span>)          │ (<span style=\"color: #00d7ff; text-decoration-color: #00d7ff\">None</span>, <span style=\"color: #00af00; text-decoration-color: #00af00\">128</span>)            │        <span style=\"color: #00af00; text-decoration-color: #00af00\">32,896</span> │\n",
              "├─────────────────────────────────┼────────────────────────┼───────────────┤\n",
              "│ dense (<span style=\"color: #0087ff; text-decoration-color: #0087ff\">Dense</span>)                   │ (<span style=\"color: #00d7ff; text-decoration-color: #00d7ff\">None</span>, <span style=\"color: #00af00; text-decoration-color: #00af00\">1</span>)              │           <span style=\"color: #00af00; text-decoration-color: #00af00\">129</span> │\n",
              "└─────────────────────────────────┴────────────────────────┴───────────────┘\n",
              "</pre>\n"
            ]
          },
          "metadata": {}
        },
        {
          "output_type": "display_data",
          "data": {
            "text/plain": [
              "\u001b[1m Total params: \u001b[0m\u001b[38;5;34m1,313,027\u001b[0m (5.01 MB)\n"
            ],
            "text/html": [
              "<pre style=\"white-space:pre;overflow-x:auto;line-height:normal;font-family:Menlo,'DejaVu Sans Mono',consolas,'Courier New',monospace\"><span style=\"font-weight: bold\"> Total params: </span><span style=\"color: #00af00; text-decoration-color: #00af00\">1,313,027</span> (5.01 MB)\n",
              "</pre>\n"
            ]
          },
          "metadata": {}
        },
        {
          "output_type": "display_data",
          "data": {
            "text/plain": [
              "\u001b[1m Trainable params: \u001b[0m\u001b[38;5;34m1,313,025\u001b[0m (5.01 MB)\n"
            ],
            "text/html": [
              "<pre style=\"white-space:pre;overflow-x:auto;line-height:normal;font-family:Menlo,'DejaVu Sans Mono',consolas,'Courier New',monospace\"><span style=\"font-weight: bold\"> Trainable params: </span><span style=\"color: #00af00; text-decoration-color: #00af00\">1,313,025</span> (5.01 MB)\n",
              "</pre>\n"
            ]
          },
          "metadata": {}
        },
        {
          "output_type": "display_data",
          "data": {
            "text/plain": [
              "\u001b[1m Non-trainable params: \u001b[0m\u001b[38;5;34m0\u001b[0m (0.00 B)\n"
            ],
            "text/html": [
              "<pre style=\"white-space:pre;overflow-x:auto;line-height:normal;font-family:Menlo,'DejaVu Sans Mono',consolas,'Courier New',monospace\"><span style=\"font-weight: bold\"> Non-trainable params: </span><span style=\"color: #00af00; text-decoration-color: #00af00\">0</span> (0.00 B)\n",
              "</pre>\n"
            ]
          },
          "metadata": {}
        },
        {
          "output_type": "display_data",
          "data": {
            "text/plain": [
              "\u001b[1m Optimizer params: \u001b[0m\u001b[38;5;34m2\u001b[0m (12.00 B)\n"
            ],
            "text/html": [
              "<pre style=\"white-space:pre;overflow-x:auto;line-height:normal;font-family:Menlo,'DejaVu Sans Mono',consolas,'Courier New',monospace\"><span style=\"font-weight: bold\"> Optimizer params: </span><span style=\"color: #00af00; text-decoration-color: #00af00\">2</span> (12.00 B)\n",
              "</pre>\n"
            ]
          },
          "metadata": {}
        }
      ]
    },
    {
      "cell_type": "code",
      "source": [
        "model.get_weights()"
      ],
      "metadata": {
        "colab": {
          "base_uri": "https://localhost:8080/"
        },
        "id": "MmTe8KCkW1g5",
        "outputId": "25a63f46-fc2c-45ae-bc9c-bda799d27099"
      },
      "execution_count": 48,
      "outputs": [
        {
          "output_type": "execute_result",
          "data": {
            "text/plain": [
              "[array([[-0.02128008,  0.09529977,  0.13473062, ...,  0.16772844,\n",
              "          0.03202025, -0.07405381],\n",
              "        [ 0.02692948, -0.01495028,  0.11384895, ..., -0.04105876,\n",
              "          0.06329253,  0.00666775],\n",
              "        [ 0.10049605,  0.1729673 ,  0.05205643, ..., -0.12911367,\n",
              "         -0.0665362 ,  0.11079842],\n",
              "        ...,\n",
              "        [ 0.06100302,  0.08078413, -0.06874938, ..., -0.00445208,\n",
              "         -0.05949004,  0.03685942],\n",
              "        [-0.01563895, -0.05963205,  0.08101008, ...,  0.08807289,\n",
              "          0.07730415, -0.04997339],\n",
              "        [-0.07943249, -0.02129703,  0.02111208, ...,  0.03682816,\n",
              "          0.07504992, -0.00085937]], dtype=float32),\n",
              " array([[-0.15496059,  0.108117  , -0.0695639 , ..., -0.03323943,\n",
              "         -0.08326466,  0.00915416],\n",
              "        [-0.04560105, -0.01029575, -0.11908557, ...,  0.21114948,\n",
              "          0.01226958, -0.08514342],\n",
              "        [-0.15005559, -0.13119303,  0.03557481, ..., -0.0163511 ,\n",
              "          0.04522915,  0.04517922],\n",
              "        ...,\n",
              "        [-0.04454284,  0.07308649,  0.00134004, ..., -0.07965717,\n",
              "         -0.03986438,  0.00039814],\n",
              "        [-0.06786405, -0.00923381,  0.01838838, ..., -0.02697845,\n",
              "          0.1393717 ,  0.09859794],\n",
              "        [-0.00702506,  0.20269838, -0.07733658, ...,  0.16938883,\n",
              "         -0.01439916, -0.16876984]], dtype=float32),\n",
              " array([[ 4.23762873e-02,  1.05745606e-02, -5.03743403e-02, ...,\n",
              "          3.58336791e-02, -1.19439483e-01,  1.49700576e-02],\n",
              "        [ 1.85329976e-04,  2.22491082e-02, -1.23755574e-01, ...,\n",
              "          5.73492199e-02,  6.14233464e-02,  2.89889071e-02],\n",
              "        [-3.99615616e-02,  2.65326984e-02, -2.01134741e-01, ...,\n",
              "          1.02381445e-01, -1.41952455e-01,  1.60188287e-01],\n",
              "        ...,\n",
              "        [-1.91552371e-01,  1.87469661e-01, -8.62186402e-02, ...,\n",
              "         -7.99322780e-03, -2.41641495e-02, -7.33297765e-02],\n",
              "        [-2.47827321e-02, -1.26322731e-01, -5.34259789e-02, ...,\n",
              "         -1.76705152e-01, -7.30353072e-02,  1.21386414e-02],\n",
              "        [-2.47606845e-03, -1.06545361e-02, -6.60612658e-02, ...,\n",
              "         -1.37433121e-02, -2.22165491e-02, -2.16720402e-02]], dtype=float32),\n",
              " array([-0.03233448,  0.04330793, -0.03669016, -0.02605762, -0.03805264,\n",
              "         0.01351857,  0.04192528,  0.03191154, -0.03616965, -0.0340053 ,\n",
              "        -0.03360742,  0.02437429,  0.03262122, -0.0226465 , -0.03503178,\n",
              "        -0.04458963,  0.0030786 ,  0.05158561,  0.01247894,  0.03887799,\n",
              "        -0.02493486, -0.02659457, -0.0016799 , -0.03314482, -0.02278176,\n",
              "         0.0078083 ,  0.03101322, -0.02790113, -0.03813374, -0.02662601,\n",
              "         0.0145629 ,  0.02179786,  0.02398252,  0.01252528,  0.01155302,\n",
              "         0.03911477,  0.10012323,  0.0111926 , -0.02057773,  0.06587733,\n",
              "        -0.04763972, -0.04007788,  0.02013744,  0.0077258 , -0.0281408 ,\n",
              "        -0.0134166 , -0.05047319,  0.00181365, -0.02157688, -0.04494997,\n",
              "        -0.00542812, -0.02337194, -0.04091525, -0.0271583 , -0.05086729,\n",
              "         0.03148277, -0.01911574, -0.03253371,  0.03062109, -0.01276692,\n",
              "        -0.01809165, -0.03813038,  0.04019488, -0.0332712 , -0.04291993,\n",
              "         0.00677011, -0.04958258, -0.01917668, -0.01481837, -0.00787519,\n",
              "         0.04380185,  0.03792077,  0.0335185 , -0.02168666,  0.03097682,\n",
              "        -0.00227239,  0.02260008,  0.02758596, -0.00482078, -0.02566191,\n",
              "         0.03801877, -0.03930674,  0.02779853, -0.0306412 , -0.02483567,\n",
              "        -0.0033275 ,  0.00314933, -0.01914434,  0.01705315, -0.03175534,\n",
              "        -0.01952955, -0.02429214, -0.00590301, -0.02434903, -0.0216444 ,\n",
              "        -0.01508823,  0.00536101, -0.01501084, -0.02440945,  0.00359823,\n",
              "         0.01750197, -0.01669895, -0.0350618 , -0.03523276,  0.00767884,\n",
              "         0.01578263, -0.01527439, -0.00960286, -0.01272442, -0.01717742,\n",
              "         0.02315687,  0.00954135, -0.05392988, -0.01013705, -0.01773561,\n",
              "         0.01198668,  0.03497824, -0.00933069,  0.00478875,  0.03381667,\n",
              "         0.00015725,  0.01161413, -0.02145597, -0.03349276, -0.02246659,\n",
              "         0.05568067, -0.0434369 , -0.00952418], dtype=float32),\n",
              " array([[ 0.18602708],\n",
              "        [-0.15140083],\n",
              "        [ 0.20288168],\n",
              "        [ 0.25782827],\n",
              "        [ 0.24000578],\n",
              "        [-0.08899076],\n",
              "        [ 0.03843361],\n",
              "        [-0.04964798],\n",
              "        [-0.13522597],\n",
              "        [ 0.17793365],\n",
              "        [-0.1374187 ],\n",
              "        [-0.08403813],\n",
              "        [-0.1675931 ],\n",
              "        [-0.17039153],\n",
              "        [ 0.0746499 ],\n",
              "        [ 0.02888409],\n",
              "        [-0.03988564],\n",
              "        [ 0.04738993],\n",
              "        [ 0.18361893],\n",
              "        [-0.15116371],\n",
              "        [ 0.6603914 ],\n",
              "        [ 0.07659423],\n",
              "        [-0.11776055],\n",
              "        [ 0.2458147 ],\n",
              "        [ 0.03118584],\n",
              "        [-0.1383775 ],\n",
              "        [ 0.05335733],\n",
              "        [ 0.133185  ],\n",
              "        [-0.08575134],\n",
              "        [ 0.12840927],\n",
              "        [ 0.09051222],\n",
              "        [-0.09742292],\n",
              "        [-0.00480586],\n",
              "        [ 0.04078319],\n",
              "        [ 0.01463036],\n",
              "        [-0.17043571],\n",
              "        [ 0.29570648],\n",
              "        [-0.1723508 ],\n",
              "        [ 0.05995684],\n",
              "        [-0.11665449],\n",
              "        [-0.05020478],\n",
              "        [ 0.18825401],\n",
              "        [-0.09632546],\n",
              "        [-0.03483641],\n",
              "        [-0.09800812],\n",
              "        [-0.10374723],\n",
              "        [ 0.03420467],\n",
              "        [ 0.15761562],\n",
              "        [ 0.08313106],\n",
              "        [ 0.12368502],\n",
              "        [-0.13259539],\n",
              "        [ 0.07808347],\n",
              "        [ 0.18857875],\n",
              "        [-0.11979818],\n",
              "        [ 0.24778613],\n",
              "        [-0.05870119],\n",
              "        [ 0.18743949],\n",
              "        [-0.04268774],\n",
              "        [-0.12451383],\n",
              "        [ 0.08889806],\n",
              "        [-0.13179244],\n",
              "        [ 0.06905679],\n",
              "        [ 0.2409034 ],\n",
              "        [ 0.20166314],\n",
              "        [ 0.23284729],\n",
              "        [-0.0311283 ],\n",
              "        [ 0.23056805],\n",
              "        [ 0.18581097],\n",
              "        [ 0.05849953],\n",
              "        [-0.07478905],\n",
              "        [-0.06008858],\n",
              "        [-0.07096343],\n",
              "        [ 0.06203109],\n",
              "        [ 0.19744855],\n",
              "        [ 0.08631174],\n",
              "        [-0.10453337],\n",
              "        [-0.07155131],\n",
              "        [-0.08184304],\n",
              "        [-0.16368298],\n",
              "        [-0.18326871],\n",
              "        [-0.17874333],\n",
              "        [-0.01166335],\n",
              "        [ 0.2294241 ],\n",
              "        [ 0.20603682],\n",
              "        [ 0.10783327],\n",
              "        [ 0.19931005],\n",
              "        [-0.02318692],\n",
              "        [-0.0481313 ],\n",
              "        [ 0.1145343 ],\n",
              "        [ 0.04613255],\n",
              "        [-0.05107057],\n",
              "        [ 0.08767956],\n",
              "        [ 0.10896767],\n",
              "        [ 0.0592715 ],\n",
              "        [ 0.15084441],\n",
              "        [ 0.18279552],\n",
              "        [-0.17116581],\n",
              "        [-0.08221902],\n",
              "        [ 0.21190242],\n",
              "        [ 0.01142759],\n",
              "        [ 0.21741389],\n",
              "        [ 0.1403195 ],\n",
              "        [ 0.36060345],\n",
              "        [ 0.08172566],\n",
              "        [ 0.01420036],\n",
              "        [-0.07991639],\n",
              "        [-0.0490671 ],\n",
              "        [-0.10478165],\n",
              "        [-0.24742538],\n",
              "        [-0.09028351],\n",
              "        [-0.07402218],\n",
              "        [ 0.02251105],\n",
              "        [ 0.00985057],\n",
              "        [ 0.19847664],\n",
              "        [ 0.23506661],\n",
              "        [ 0.11339603],\n",
              "        [-0.15190381],\n",
              "        [ 0.4269845 ],\n",
              "        [ 0.17523547],\n",
              "        [-0.05813747],\n",
              "        [ 0.06475346],\n",
              "        [-0.08949094],\n",
              "        [-0.3553827 ],\n",
              "        [ 0.06629597],\n",
              "        [ 0.20060186],\n",
              "        [-0.13565125],\n",
              "        [-0.04593648],\n",
              "        [ 0.05890946]], dtype=float32),\n",
              " array([0.47578332], dtype=float32)]"
            ]
          },
          "metadata": {},
          "execution_count": 48
        }
      ]
    },
    {
      "cell_type": "code",
      "source": [
        "# Step 2: Helper Functions\n",
        "# Function to decode reviews\n",
        "def decode_review(encoded_review):\n",
        "    return ' '.join([reverse_word_index.get(i - 3, '?') for i in encoded_review])\n",
        "\n",
        "# Function to preprocess user input\n",
        "def preprocess_text(text):\n",
        "    words = text.lower().split()\n",
        "    encoded_review = [word_index.get(word, 2) + 3 for word in words]\n",
        "    padded_review = sequence.pad_sequences([encoded_review], maxlen=500)\n",
        "    return padded_review"
      ],
      "metadata": {
        "id": "n44fc5meXMLQ"
      },
      "execution_count": 49,
      "outputs": []
    },
    {
      "cell_type": "code",
      "source": [
        "### Prediction  function\n",
        "\n",
        "def predict_sentiment(review):\n",
        "  preprocessed_input=preprocess_text(review)\n",
        "\n",
        "  Prediction=model.predict(preprocessed_input)\n",
        "\n",
        "  sentiment = 'Positive' if Prediction[0][0] > 0.5 else 'Negative'\n",
        "\n",
        "  return sentiment, Prediction[0][0]"
      ],
      "metadata": {
        "id": "mUSWPCQhXwln"
      },
      "execution_count": 50,
      "outputs": []
    },
    {
      "cell_type": "code",
      "source": [
        "# Step 4: User Input and Prediction\n",
        "# Example review for prediction\n",
        "example_review = \"This movie was fanantastic! The acting was great and the plot was thrilling.\"\n",
        "\n",
        "sentiment,score=predict_sentiment(example_review)\n",
        "\n",
        "print(f'Review: {example_review}')\n",
        "print(f'Sentiment: {sentiment}')\n",
        "print(f'Prediction Score: {score}')\n"
      ],
      "metadata": {
        "colab": {
          "base_uri": "https://localhost:8080/"
        },
        "id": "cpsBFYOCY_RY",
        "outputId": "e8fefeb9-e2d1-483e-bd84-486adf267a6a"
      },
      "execution_count": 51,
      "outputs": [
        {
          "output_type": "stream",
          "name": "stdout",
          "text": [
            "\u001b[1m1/1\u001b[0m \u001b[32m━━━━━━━━━━━━━━━━━━━━\u001b[0m\u001b[37m\u001b[0m \u001b[1m1s\u001b[0m 523ms/step\n",
            "Review: This movie was fanantastic! The acting was great and the plot was thrilling.\n",
            "Sentiment: Negative\n",
            "Prediction Score: 0.2714746594429016\n"
          ]
        }
      ]
    }
  ]
}